{
  "nbformat": 4,
  "nbformat_minor": 0,
  "metadata": {
    "colab": {
      "name": " Bike Sharing Demand.ipynb",
      "version": "0.3.2",
      "provenance": [],
      "collapsed_sections": [],
      "toc_visible": true,
      "include_colab_link": true
    },
    "kernelspec": {
      "name": "python3",
      "display_name": "Python 3"
    },
    "accelerator": "GPU"
  },
  "cells": [
    {
      "cell_type": "markdown",
      "metadata": {
        "id": "view-in-github",
        "colab_type": "text"
      },
      "source": [
        "<a href=\"https://colab.research.google.com/github/chimaek/kaggle/blob/master/Bike_Sharing_Demand.ipynb\" target=\"_parent\"><img src=\"https://colab.research.google.com/assets/colab-badge.svg\" alt=\"Open In Colab\"/></a>"
      ]
    },
    {
      "metadata": {
        "id": "Xa3EkccfDpLn",
        "colab_type": "text"
      },
      "cell_type": "markdown",
      "source": [
        "# Bike Sharing Demand (자전거 수요 예측)"
      ]
    },
    {
      "metadata": {
        "id": "1n-tjvzGHAeM",
        "colab_type": "text"
      },
      "cell_type": "markdown",
      "source": [
        "## 목표  \n",
        "### 각 피쳐(열 값)들을 활용하여 자전거 수요를 예측해보자!!!"
      ]
    },
    {
      "metadata": {
        "id": "YSFJIoqEDwNm",
        "colab_type": "text"
      },
      "cell_type": "markdown",
      "source": [
        "## 진행 과정\n",
        "\n",
        "** 1.   데이터 확인  **  \n",
        "** 2.   데이터 시각화 **  \n",
        "** 3.   피쳐 엔지니어링 **  \n",
        "** 4.   모델 설계 **  \n",
        "** 5.   모델 평가 **  \n",
        "\n"
      ]
    },
    {
      "metadata": {
        "id": "4AbWdx24ESM-",
        "colab_type": "text"
      },
      "cell_type": "markdown",
      "source": [
        "## 1. 데이터 확인"
      ]
    },
    {
      "metadata": {
        "id": "-KgR4lKSCbdu",
        "colab_type": "code",
        "colab": {}
      },
      "cell_type": "code",
      "source": [
        "import pandas as pd # 데이터셋의 형태를 보여주는 라이브러리\n",
        "\n",
        "import numpy as np  # 행렬 연산을 도와주는 라이브러리\n",
        "\n",
        "train = pd.read_csv('train.csv') # 학습용 데이터 \n",
        "\n",
        "test = pd.read_csv('test.csv') # 테스트용 데이터\n",
        "\n",
        "import warnings\n",
        "\n",
        "warnings.filterwarnings('ignore') #오류무시"
      ],
      "execution_count": 0,
      "outputs": []
    },
    {
      "metadata": {
        "id": "9N9SLz4LGgNd",
        "colab_type": "code",
        "outputId": "e93149e0-0243-4ce8-97bc-79072ecedd1c",
        "colab": {
          "base_uri": "https://localhost:8080/",
          "height": 204
        }
      },
      "cell_type": "code",
      "source": [
        "train_c = train.copy() # 학습용 데이터 복제\n",
        "\n",
        "test_c = test.copy() # 테스트용 데이터 복제\n",
        "\n",
        "train_c.head() # 학습용 데이터 위에서부터 있는 값을 보여줌."
      ],
      "execution_count": 2,
      "outputs": [
        {
          "output_type": "execute_result",
          "data": {
            "text/html": [
              "<div>\n",
              "<style scoped>\n",
              "    .dataframe tbody tr th:only-of-type {\n",
              "        vertical-align: middle;\n",
              "    }\n",
              "\n",
              "    .dataframe tbody tr th {\n",
              "        vertical-align: top;\n",
              "    }\n",
              "\n",
              "    .dataframe thead th {\n",
              "        text-align: right;\n",
              "    }\n",
              "</style>\n",
              "<table border=\"1\" class=\"dataframe\">\n",
              "  <thead>\n",
              "    <tr style=\"text-align: right;\">\n",
              "      <th></th>\n",
              "      <th>datetime</th>\n",
              "      <th>season</th>\n",
              "      <th>holiday</th>\n",
              "      <th>workingday</th>\n",
              "      <th>weather</th>\n",
              "      <th>temp</th>\n",
              "      <th>atemp</th>\n",
              "      <th>humidity</th>\n",
              "      <th>windspeed</th>\n",
              "      <th>casual</th>\n",
              "      <th>registered</th>\n",
              "      <th>count</th>\n",
              "    </tr>\n",
              "  </thead>\n",
              "  <tbody>\n",
              "    <tr>\n",
              "      <th>0</th>\n",
              "      <td>2011-01-01 00:00:00</td>\n",
              "      <td>1</td>\n",
              "      <td>0</td>\n",
              "      <td>0</td>\n",
              "      <td>1</td>\n",
              "      <td>9.84</td>\n",
              "      <td>14.395</td>\n",
              "      <td>81</td>\n",
              "      <td>0.0</td>\n",
              "      <td>3</td>\n",
              "      <td>13</td>\n",
              "      <td>16</td>\n",
              "    </tr>\n",
              "    <tr>\n",
              "      <th>1</th>\n",
              "      <td>2011-01-01 01:00:00</td>\n",
              "      <td>1</td>\n",
              "      <td>0</td>\n",
              "      <td>0</td>\n",
              "      <td>1</td>\n",
              "      <td>9.02</td>\n",
              "      <td>13.635</td>\n",
              "      <td>80</td>\n",
              "      <td>0.0</td>\n",
              "      <td>8</td>\n",
              "      <td>32</td>\n",
              "      <td>40</td>\n",
              "    </tr>\n",
              "    <tr>\n",
              "      <th>2</th>\n",
              "      <td>2011-01-01 02:00:00</td>\n",
              "      <td>1</td>\n",
              "      <td>0</td>\n",
              "      <td>0</td>\n",
              "      <td>1</td>\n",
              "      <td>9.02</td>\n",
              "      <td>13.635</td>\n",
              "      <td>80</td>\n",
              "      <td>0.0</td>\n",
              "      <td>5</td>\n",
              "      <td>27</td>\n",
              "      <td>32</td>\n",
              "    </tr>\n",
              "    <tr>\n",
              "      <th>3</th>\n",
              "      <td>2011-01-01 03:00:00</td>\n",
              "      <td>1</td>\n",
              "      <td>0</td>\n",
              "      <td>0</td>\n",
              "      <td>1</td>\n",
              "      <td>9.84</td>\n",
              "      <td>14.395</td>\n",
              "      <td>75</td>\n",
              "      <td>0.0</td>\n",
              "      <td>3</td>\n",
              "      <td>10</td>\n",
              "      <td>13</td>\n",
              "    </tr>\n",
              "    <tr>\n",
              "      <th>4</th>\n",
              "      <td>2011-01-01 04:00:00</td>\n",
              "      <td>1</td>\n",
              "      <td>0</td>\n",
              "      <td>0</td>\n",
              "      <td>1</td>\n",
              "      <td>9.84</td>\n",
              "      <td>14.395</td>\n",
              "      <td>75</td>\n",
              "      <td>0.0</td>\n",
              "      <td>0</td>\n",
              "      <td>1</td>\n",
              "      <td>1</td>\n",
              "    </tr>\n",
              "  </tbody>\n",
              "</table>\n",
              "</div>"
            ],
            "text/plain": [
              "              datetime  season  holiday  workingday  weather  temp   atemp  \\\n",
              "0  2011-01-01 00:00:00       1        0           0        1  9.84  14.395   \n",
              "1  2011-01-01 01:00:00       1        0           0        1  9.02  13.635   \n",
              "2  2011-01-01 02:00:00       1        0           0        1  9.02  13.635   \n",
              "3  2011-01-01 03:00:00       1        0           0        1  9.84  14.395   \n",
              "4  2011-01-01 04:00:00       1        0           0        1  9.84  14.395   \n",
              "\n",
              "   humidity  windspeed  casual  registered  count  \n",
              "0        81        0.0       3          13     16  \n",
              "1        80        0.0       8          32     40  \n",
              "2        80        0.0       5          27     32  \n",
              "3        75        0.0       3          10     13  \n",
              "4        75        0.0       0           1      1  "
            ]
          },
          "metadata": {
            "tags": []
          },
          "execution_count": 2
        }
      ]
    },
    {
      "metadata": {
        "id": "cywbT8fYHmEl",
        "colab_type": "text"
      },
      "cell_type": "markdown",
      "source": [
        "**datatime = 시간별 날짜 + 타임 스탬프 <br>\n",
        "season- 1 = 봄, 2 = 여름, 3 = 가을, 4 = 겨울 <br>\n",
        "holiday - 휴일로 간주되는지 여부<br>\n",
        "workingday - 주말이나 휴일이 아닌지 여부<br>weather - 1 : 맑음, 흐림 흐림, 부분 흐림, 부분 흐림<br>\n",
        "2 : 안개 + 흐림, 안개 + 깨진 구름, 안개 + 약간 구름, 안개<br>\n",
        "3 : 밝은 눈, 밝은 비 + 뇌우 + 흩어져있는 구름, 밝은 비 + 흩어져있는 구름<br>\n",
        "4 : 폭우 + 얼음 팔레트 + 뇌우 + 안개, 눈 + 안개<br>temp - 섭씨 온도<br>\n",
        "atemp - \"체감\"섭씨<br>\n",
        "humidity - 상대 습도<br>\n",
        "windspeed - 풍속<br>\n",
        "casual - 등록되지 않은 사용자 임대가 시작된 수<br>\n",
        "registered - 시작된 등록 된 사용자 대여 수<br>\n",
        "count - 총 임대 수**"
      ]
    },
    {
      "metadata": {
        "id": "OIeCmXgZ4ozc",
        "colab_type": "code",
        "outputId": "3bd9926e-329c-4a4a-8d15-8312a3d41390",
        "colab": {
          "base_uri": "https://localhost:8080/",
          "height": 35
        }
      },
      "cell_type": "code",
      "source": [
        "train_c.shape"
      ],
      "execution_count": 3,
      "outputs": [
        {
          "output_type": "execute_result",
          "data": {
            "text/plain": [
              "(10886, 12)"
            ]
          },
          "metadata": {
            "tags": []
          },
          "execution_count": 3
        }
      ]
    },
    {
      "metadata": {
        "id": "uOxUgT-w5PKM",
        "colab_type": "text"
      },
      "cell_type": "markdown",
      "source": [
        "** 학습용 데이터에는 10886개의 데이터들이 존재하고 각 데이터들은 12개의 열(Feature)을 가지고있다. **"
      ]
    },
    {
      "metadata": {
        "id": "GF7YFDxfJ8eS",
        "colab_type": "code",
        "outputId": "ae149230-f52f-4bc5-c568-36dcebb99c9a",
        "colab": {
          "base_uri": "https://localhost:8080/",
          "height": 323
        }
      },
      "cell_type": "code",
      "source": [
        "train_c.info() # 데이터들이 가지고있는 열 값의 간략한 형태를 보여줌."
      ],
      "execution_count": 4,
      "outputs": [
        {
          "output_type": "stream",
          "text": [
            "<class 'pandas.core.frame.DataFrame'>\n",
            "RangeIndex: 10886 entries, 0 to 10885\n",
            "Data columns (total 12 columns):\n",
            "datetime      10886 non-null object\n",
            "season        10886 non-null int64\n",
            "holiday       10886 non-null int64\n",
            "workingday    10886 non-null int64\n",
            "weather       10886 non-null int64\n",
            "temp          10886 non-null float64\n",
            "atemp         10886 non-null float64\n",
            "humidity      10886 non-null int64\n",
            "windspeed     10886 non-null float64\n",
            "casual        10886 non-null int64\n",
            "registered    10886 non-null int64\n",
            "count         10886 non-null int64\n",
            "dtypes: float64(3), int64(8), object(1)\n",
            "memory usage: 1020.6+ KB\n"
          ],
          "name": "stdout"
        }
      ]
    },
    {
      "metadata": {
        "id": "B15pXdSLLM_i",
        "colab_type": "text"
      },
      "cell_type": "markdown",
      "source": [
        "** 알 수 있는것 : 모든 열들은 숫자 값을 가지고 있다.  **\n",
        "\n",
        "** 전형적인 선형회귀 문제 **"
      ]
    },
    {
      "metadata": {
        "id": "SXxyAY2aJ6yi",
        "colab_type": "code",
        "outputId": "ce9cab9b-3117-485b-9d1b-12cf2298e652",
        "colab": {
          "base_uri": "https://localhost:8080/",
          "height": 251
        }
      },
      "cell_type": "code",
      "source": [
        "train_c.isnull().sum() # 각 데이터들의  열 값들중 비어있는 값이 있는지 표시"
      ],
      "execution_count": 5,
      "outputs": [
        {
          "output_type": "execute_result",
          "data": {
            "text/plain": [
              "datetime      0\n",
              "season        0\n",
              "holiday       0\n",
              "workingday    0\n",
              "weather       0\n",
              "temp          0\n",
              "atemp         0\n",
              "humidity      0\n",
              "windspeed     0\n",
              "casual        0\n",
              "registered    0\n",
              "count         0\n",
              "dtype: int64"
            ]
          },
          "metadata": {
            "tags": []
          },
          "execution_count": 5
        }
      ]
    },
    {
      "metadata": {
        "id": "xy4kVWgBLrWx",
        "colab_type": "text"
      },
      "cell_type": "markdown",
      "source": [
        "** 데이터 분석을 통한 결과 : 데이터들의 각 열 값은 숫자로 되어있으며 비어있는 값이 없다. **"
      ]
    },
    {
      "metadata": {
        "id": "7DIcnIgn2xxa",
        "colab_type": "text"
      },
      "cell_type": "markdown",
      "source": [
        "## 2. 데이터 시각화"
      ]
    },
    {
      "metadata": {
        "id": "unSNNLah22nj",
        "colab_type": "code",
        "colab": {}
      },
      "cell_type": "code",
      "source": [
        "import matplotlib.pyplot as plt # 데이터 시각화 라이브러리\n",
        "\n",
        "import seaborn as sns # 데이터시각화 라이브러리\n"
      ],
      "execution_count": 0,
      "outputs": []
    },
    {
      "metadata": {
        "id": "Z0MOC21635Il",
        "colab_type": "code",
        "outputId": "0b2f856a-4478-4076-eb22-00c5521e7498",
        "colab": {
          "base_uri": "https://localhost:8080/",
          "height": 297
        }
      },
      "cell_type": "code",
      "source": [
        "train_c.describe() # 변수들의 분포를 볼 수있는 함수"
      ],
      "execution_count": 7,
      "outputs": [
        {
          "output_type": "execute_result",
          "data": {
            "text/html": [
              "<div>\n",
              "<style scoped>\n",
              "    .dataframe tbody tr th:only-of-type {\n",
              "        vertical-align: middle;\n",
              "    }\n",
              "\n",
              "    .dataframe tbody tr th {\n",
              "        vertical-align: top;\n",
              "    }\n",
              "\n",
              "    .dataframe thead th {\n",
              "        text-align: right;\n",
              "    }\n",
              "</style>\n",
              "<table border=\"1\" class=\"dataframe\">\n",
              "  <thead>\n",
              "    <tr style=\"text-align: right;\">\n",
              "      <th></th>\n",
              "      <th>season</th>\n",
              "      <th>holiday</th>\n",
              "      <th>workingday</th>\n",
              "      <th>weather</th>\n",
              "      <th>temp</th>\n",
              "      <th>atemp</th>\n",
              "      <th>humidity</th>\n",
              "      <th>windspeed</th>\n",
              "      <th>casual</th>\n",
              "      <th>registered</th>\n",
              "      <th>count</th>\n",
              "    </tr>\n",
              "  </thead>\n",
              "  <tbody>\n",
              "    <tr>\n",
              "      <th>count</th>\n",
              "      <td>10886.000000</td>\n",
              "      <td>10886.000000</td>\n",
              "      <td>10886.000000</td>\n",
              "      <td>10886.000000</td>\n",
              "      <td>10886.00000</td>\n",
              "      <td>10886.000000</td>\n",
              "      <td>10886.000000</td>\n",
              "      <td>10886.000000</td>\n",
              "      <td>10886.000000</td>\n",
              "      <td>10886.000000</td>\n",
              "      <td>10886.000000</td>\n",
              "    </tr>\n",
              "    <tr>\n",
              "      <th>mean</th>\n",
              "      <td>2.506614</td>\n",
              "      <td>0.028569</td>\n",
              "      <td>0.680875</td>\n",
              "      <td>1.418427</td>\n",
              "      <td>20.23086</td>\n",
              "      <td>23.655084</td>\n",
              "      <td>61.886460</td>\n",
              "      <td>12.799395</td>\n",
              "      <td>36.021955</td>\n",
              "      <td>155.552177</td>\n",
              "      <td>191.574132</td>\n",
              "    </tr>\n",
              "    <tr>\n",
              "      <th>std</th>\n",
              "      <td>1.116174</td>\n",
              "      <td>0.166599</td>\n",
              "      <td>0.466159</td>\n",
              "      <td>0.633839</td>\n",
              "      <td>7.79159</td>\n",
              "      <td>8.474601</td>\n",
              "      <td>19.245033</td>\n",
              "      <td>8.164537</td>\n",
              "      <td>49.960477</td>\n",
              "      <td>151.039033</td>\n",
              "      <td>181.144454</td>\n",
              "    </tr>\n",
              "    <tr>\n",
              "      <th>min</th>\n",
              "      <td>1.000000</td>\n",
              "      <td>0.000000</td>\n",
              "      <td>0.000000</td>\n",
              "      <td>1.000000</td>\n",
              "      <td>0.82000</td>\n",
              "      <td>0.760000</td>\n",
              "      <td>0.000000</td>\n",
              "      <td>0.000000</td>\n",
              "      <td>0.000000</td>\n",
              "      <td>0.000000</td>\n",
              "      <td>1.000000</td>\n",
              "    </tr>\n",
              "    <tr>\n",
              "      <th>25%</th>\n",
              "      <td>2.000000</td>\n",
              "      <td>0.000000</td>\n",
              "      <td>0.000000</td>\n",
              "      <td>1.000000</td>\n",
              "      <td>13.94000</td>\n",
              "      <td>16.665000</td>\n",
              "      <td>47.000000</td>\n",
              "      <td>7.001500</td>\n",
              "      <td>4.000000</td>\n",
              "      <td>36.000000</td>\n",
              "      <td>42.000000</td>\n",
              "    </tr>\n",
              "    <tr>\n",
              "      <th>50%</th>\n",
              "      <td>3.000000</td>\n",
              "      <td>0.000000</td>\n",
              "      <td>1.000000</td>\n",
              "      <td>1.000000</td>\n",
              "      <td>20.50000</td>\n",
              "      <td>24.240000</td>\n",
              "      <td>62.000000</td>\n",
              "      <td>12.998000</td>\n",
              "      <td>17.000000</td>\n",
              "      <td>118.000000</td>\n",
              "      <td>145.000000</td>\n",
              "    </tr>\n",
              "    <tr>\n",
              "      <th>75%</th>\n",
              "      <td>4.000000</td>\n",
              "      <td>0.000000</td>\n",
              "      <td>1.000000</td>\n",
              "      <td>2.000000</td>\n",
              "      <td>26.24000</td>\n",
              "      <td>31.060000</td>\n",
              "      <td>77.000000</td>\n",
              "      <td>16.997900</td>\n",
              "      <td>49.000000</td>\n",
              "      <td>222.000000</td>\n",
              "      <td>284.000000</td>\n",
              "    </tr>\n",
              "    <tr>\n",
              "      <th>max</th>\n",
              "      <td>4.000000</td>\n",
              "      <td>1.000000</td>\n",
              "      <td>1.000000</td>\n",
              "      <td>4.000000</td>\n",
              "      <td>41.00000</td>\n",
              "      <td>45.455000</td>\n",
              "      <td>100.000000</td>\n",
              "      <td>56.996900</td>\n",
              "      <td>367.000000</td>\n",
              "      <td>886.000000</td>\n",
              "      <td>977.000000</td>\n",
              "    </tr>\n",
              "  </tbody>\n",
              "</table>\n",
              "</div>"
            ],
            "text/plain": [
              "             season       holiday    workingday       weather         temp  \\\n",
              "count  10886.000000  10886.000000  10886.000000  10886.000000  10886.00000   \n",
              "mean       2.506614      0.028569      0.680875      1.418427     20.23086   \n",
              "std        1.116174      0.166599      0.466159      0.633839      7.79159   \n",
              "min        1.000000      0.000000      0.000000      1.000000      0.82000   \n",
              "25%        2.000000      0.000000      0.000000      1.000000     13.94000   \n",
              "50%        3.000000      0.000000      1.000000      1.000000     20.50000   \n",
              "75%        4.000000      0.000000      1.000000      2.000000     26.24000   \n",
              "max        4.000000      1.000000      1.000000      4.000000     41.00000   \n",
              "\n",
              "              atemp      humidity     windspeed        casual    registered  \\\n",
              "count  10886.000000  10886.000000  10886.000000  10886.000000  10886.000000   \n",
              "mean      23.655084     61.886460     12.799395     36.021955    155.552177   \n",
              "std        8.474601     19.245033      8.164537     49.960477    151.039033   \n",
              "min        0.760000      0.000000      0.000000      0.000000      0.000000   \n",
              "25%       16.665000     47.000000      7.001500      4.000000     36.000000   \n",
              "50%       24.240000     62.000000     12.998000     17.000000    118.000000   \n",
              "75%       31.060000     77.000000     16.997900     49.000000    222.000000   \n",
              "max       45.455000    100.000000     56.996900    367.000000    886.000000   \n",
              "\n",
              "              count  \n",
              "count  10886.000000  \n",
              "mean     191.574132  \n",
              "std      181.144454  \n",
              "min        1.000000  \n",
              "25%       42.000000  \n",
              "50%      145.000000  \n",
              "75%      284.000000  \n",
              "max      977.000000  "
            ]
          },
          "metadata": {
            "tags": []
          },
          "execution_count": 7
        }
      ]
    },
    {
      "metadata": {
        "id": "KQ8MOPnPHWnE",
        "colab_type": "text"
      },
      "cell_type": "markdown",
      "source": [
        "## 0~4와 같은 한정된 값을 분석함."
      ]
    },
    {
      "metadata": {
        "id": "FshBAJ_H6NDC",
        "colab_type": "text"
      },
      "cell_type": "markdown",
      "source": [
        "### Season 분석"
      ]
    },
    {
      "metadata": {
        "id": "GcVdVCWp6HwO",
        "colab_type": "code",
        "outputId": "82cf8544-fc18-4504-cead-a0d1524ea32a",
        "colab": {
          "base_uri": "https://localhost:8080/",
          "height": 107
        }
      },
      "cell_type": "code",
      "source": [
        "train_c.season.value_counts()"
      ],
      "execution_count": 8,
      "outputs": [
        {
          "output_type": "execute_result",
          "data": {
            "text/plain": [
              "4    2734\n",
              "3    2733\n",
              "2    2733\n",
              "1    2686\n",
              "Name: season, dtype: int64"
            ]
          },
          "metadata": {
            "tags": []
          },
          "execution_count": 8
        }
      ]
    },
    {
      "metadata": {
        "id": "ubatcWLf_HNZ",
        "colab_type": "code",
        "outputId": "e76ada89-b8b9-4896-c56f-c92db454f6b9",
        "colab": {
          "base_uri": "https://localhost:8080/",
          "height": 383
        }
      },
      "cell_type": "code",
      "source": [
        "sns.factorplot(x ='season',data = train_c,kind = 'count',size=5,aspect=1.5)"
      ],
      "execution_count": 9,
      "outputs": [
        {
          "output_type": "execute_result",
          "data": {
            "text/plain": [
              "<seaborn.axisgrid.FacetGrid at 0x7fa7799910f0>"
            ]
          },
          "metadata": {
            "tags": []
          },
          "execution_count": 9
        },
        {
          "output_type": "display_data",
          "data": {
            "image/png": "[encoded data removed]",
            "text/plain": [
              "<Figure size 540x360 with 1 Axes>"
            ]
          },
          "metadata": {
            "tags": []
          }
        }
      ]
    },
    {
      "metadata": {
        "id": "55uhKnU3_E-Q",
        "colab_type": "text"
      },
      "cell_type": "markdown",
      "source": [
        "** 데이터 중 2686개는 봄<br>2733개는 여름<br>2733개는 가을<br> 2734는 겨울 **"
      ]
    },
    {
      "metadata": {
        "id": "bnuzSGoI_iNJ",
        "colab_type": "text"
      },
      "cell_type": "markdown",
      "source": [
        "### holiday분석"
      ]
    },
    {
      "metadata": {
        "id": "KsP4ghmO_lz7",
        "colab_type": "code",
        "outputId": "e8363c2a-95fe-40fc-95cb-0fc15e8b17ac",
        "colab": {
          "base_uri": "https://localhost:8080/",
          "height": 71
        }
      },
      "cell_type": "code",
      "source": [
        "train_c.holiday.value_counts()\n"
      ],
      "execution_count": 10,
      "outputs": [
        {
          "output_type": "execute_result",
          "data": {
            "text/plain": [
              "0    10575\n",
              "1      311\n",
              "Name: holiday, dtype: int64"
            ]
          },
          "metadata": {
            "tags": []
          },
          "execution_count": 10
        }
      ]
    },
    {
      "metadata": {
        "id": "VUBe8WFvDfLj",
        "colab_type": "text"
      },
      "cell_type": "markdown",
      "source": [
        "** 대부분의 데이터들은 휴일이 아닌날을 기준으로 하는것을 알 수 있음 ** "
      ]
    },
    {
      "metadata": {
        "id": "UQYrcY-mD1_2",
        "colab_type": "text"
      },
      "cell_type": "markdown",
      "source": [
        "### workingday 분석"
      ]
    },
    {
      "metadata": {
        "id": "fyHaUHq6D1f-",
        "colab_type": "code",
        "outputId": "50b0a3ab-ca4f-44ab-fc7a-91b9015cf1f4",
        "colab": {
          "base_uri": "https://localhost:8080/",
          "height": 383
        }
      },
      "cell_type": "code",
      "source": [
        "sns.factorplot(x='workingday',data=train_c,kind='count',size=5,aspect=1)"
      ],
      "execution_count": 11,
      "outputs": [
        {
          "output_type": "execute_result",
          "data": {
            "text/plain": [
              "<seaborn.axisgrid.FacetGrid at 0x7fa779971fd0>"
            ]
          },
          "metadata": {
            "tags": []
          },
          "execution_count": 11
        },
        {
          "output_type": "display_data",
          "data": {
            "image/png": "[encoded data removed]",
            "text/plain": [
              "<Figure size 360x360 with 1 Axes>"
            ]
          },
          "metadata": {
            "tags": []
          }
        }
      ]
    },
    {
      "metadata": {
        "id": "BK2jr0KxESBo",
        "colab_type": "text"
      },
      "cell_type": "markdown",
      "source": [
        "** 대부분의 데이터들은 근무일 기준이라는것을 알 수 있음 **"
      ]
    },
    {
      "metadata": {
        "id": "iZYvonKcEZwG",
        "colab_type": "text"
      },
      "cell_type": "markdown",
      "source": [
        "### weather 분석"
      ]
    },
    {
      "metadata": {
        "id": "9_Bd_Ia_EsCp",
        "colab_type": "code",
        "outputId": "344d6b7a-147e-447b-bc64-f653ae6fce5a",
        "colab": {
          "base_uri": "https://localhost:8080/",
          "height": 107
        }
      },
      "cell_type": "code",
      "source": [
        "train_c.weather.value_counts()"
      ],
      "execution_count": 12,
      "outputs": [
        {
          "output_type": "execute_result",
          "data": {
            "text/plain": [
              "1    7192\n",
              "2    2834\n",
              "3     859\n",
              "4       1\n",
              "Name: weather, dtype: int64"
            ]
          },
          "metadata": {
            "tags": []
          },
          "execution_count": 12
        }
      ]
    },
    {
      "metadata": {
        "id": "897QXFktIgUS",
        "colab_type": "text"
      },
      "cell_type": "markdown",
      "source": [
        "## 숫자형 데이터 분석"
      ]
    },
    {
      "metadata": {
        "id": "PX40D3EMJBp-",
        "colab_type": "code",
        "outputId": "a028a5be-83f7-4759-ab1e-37391bd7c770",
        "colab": {
          "base_uri": "https://localhost:8080/",
          "height": 606
        }
      },
      "cell_type": "code",
      "source": [
        "train_c.temp.unique()\n",
        "fig,axes=plt.subplots(2,2)\n",
        "axes[0,0].hist(x=\"temp\",data=train_c,edgecolor=\"black\",linewidth=2,color='#ff4125')\n",
        "axes[0,0].set_title(\"temp\")\n",
        "axes[0,1].hist(x=\"atemp\",data=train_c,edgecolor=\"black\",linewidth=2,color='#ff4125')\n",
        "axes[0,1].set_title(\"atemp\")\n",
        "axes[1,0].hist(x=\"windspeed\",data=train_c,edgecolor=\"black\",linewidth=2,color='#ff4125')\n",
        "axes[1,0].set_title(\"windspeed\")\n",
        "axes[1,1].hist(x=\"humidity\",data=train_c,edgecolor=\"black\",linewidth=2,color='#ff4125')\n",
        "axes[1,1].set_title(\"humidity\")\n",
        "fig.set_size_inches(10,10)"
      ],
      "execution_count": 13,
      "outputs": [
        {
          "output_type": "display_data",
          "data": {
            "image/png": "[encoded data removed]",
            "text/plain": [
              "<Figure size 720x720 with 4 Axes>"
            ]
          },
          "metadata": {
            "tags": []
          }
        }
      ]
    },
    {
      "metadata": {
        "id": "1G7Y74A7FNR1",
        "colab_type": "text"
      },
      "cell_type": "markdown",
      "source": [
        "### 상관관계 분석"
      ]
    },
    {
      "metadata": {
        "id": "4Fr5LxFxFbjj",
        "colab_type": "code",
        "outputId": "14beb15f-2fd5-49e7-af00-308a92363200",
        "colab": {
          "base_uri": "https://localhost:8080/",
          "height": 718
        }
      },
      "cell_type": "code",
      "source": [
        "cor= train_c[:].corr()\n",
        "n = np.array(cor)\n",
        "n[np.tril_indices_from(n)] = False\n",
        "fig=plt.gcf()\n",
        "fig.set_size_inches(30,12)\n",
        "sns.heatmap(data=cor,mask=n,square=True,annot=True,cbar=True)"
      ],
      "execution_count": 14,
      "outputs": [
        {
          "output_type": "execute_result",
          "data": {
            "text/plain": [
              "<matplotlib.axes._subplots.AxesSubplot at 0x7fa7776cd780>"
            ]
          },
          "metadata": {
            "tags": []
          },
          "execution_count": 14
        },
        {
          "output_type": "display_data",
          "data": {
            "image/png": "[encoded data removed]",
            "text/plain": [
              "<Figure size 2160x864 with 2 Axes>"
            ]
          },
          "metadata": {
            "tags": []
          }
        }
      ]
    },
    {
      "metadata": {
        "id": "lGGOIQwFFrxd",
        "colab_type": "text"
      },
      "cell_type": "markdown",
      "source": [
        "** 상관관계 분석을 통해 알수 있는 사실**\n",
        "\n",
        "1. 자기 자신에 대한 상관관계는 1이다.<br>\n",
        "2. 온도와 체감온도는 매우 밀접한 관계가 있다.<br>\n",
        "3. 날씨와 수는 날씨가 1에서 4로 증가함에 따라 날씨가 더 나빠지는것이므로 더 적은 사람들이 자전거를 빌릴것이라는것을 알 수 있다.<br>\n",
        "4. casual과 Registered는 count와 매우 높은 관련성을 가진다. 따라서 대여된 자전거의 대부분이 등록되었다는것을 알 수 있다. "
      ]
    },
    {
      "metadata": {
        "id": "ZPaJR8xwKvFN",
        "colab_type": "text"
      },
      "cell_type": "markdown",
      "source": [
        "## 3. 데이터 가공(Feature Engineering)"
      ]
    },
    {
      "metadata": {
        "id": "G--iUKNxLK0j",
        "colab_type": "code",
        "outputId": "47b4107a-689a-4ad9-d22f-09e0e0a36d02",
        "colab": {
          "base_uri": "https://localhost:8080/",
          "height": 204
        }
      },
      "cell_type": "code",
      "source": [
        "season = pd.get_dummies(train_c['season'],prefix='season')\n",
        "train_c = pd.concat([train_c,season],axis=1)\n",
        "train_c.head()\n",
        "season = pd.get_dummies(test_c['season'],prefix='season')\n",
        "test_c=pd.concat([test_c,season],axis=1)\n",
        "test_c.head()"
      ],
      "execution_count": 15,
      "outputs": [
        {
          "output_type": "execute_result",
          "data": {
            "text/html": [
              "<div>\n",
              "<style scoped>\n",
              "    .dataframe tbody tr th:only-of-type {\n",
              "        vertical-align: middle;\n",
              "    }\n",
              "\n",
              "    .dataframe tbody tr th {\n",
              "        vertical-align: top;\n",
              "    }\n",
              "\n",
              "    .dataframe thead th {\n",
              "        text-align: right;\n",
              "    }\n",
              "</style>\n",
              "<table border=\"1\" class=\"dataframe\">\n",
              "  <thead>\n",
              "    <tr style=\"text-align: right;\">\n",
              "      <th></th>\n",
              "      <th>datetime</th>\n",
              "      <th>season</th>\n",
              "      <th>holiday</th>\n",
              "      <th>workingday</th>\n",
              "      <th>weather</th>\n",
              "      <th>temp</th>\n",
              "      <th>atemp</th>\n",
              "      <th>humidity</th>\n",
              "      <th>windspeed</th>\n",
              "      <th>season_1</th>\n",
              "      <th>season_2</th>\n",
              "      <th>season_3</th>\n",
              "      <th>season_4</th>\n",
              "    </tr>\n",
              "  </thead>\n",
              "  <tbody>\n",
              "    <tr>\n",
              "      <th>0</th>\n",
              "      <td>2011-01-20 00:00:00</td>\n",
              "      <td>1</td>\n",
              "      <td>0</td>\n",
              "      <td>1</td>\n",
              "      <td>1</td>\n",
              "      <td>10.66</td>\n",
              "      <td>11.365</td>\n",
              "      <td>56</td>\n",
              "      <td>26.0027</td>\n",
              "      <td>1</td>\n",
              "      <td>0</td>\n",
              "      <td>0</td>\n",
              "      <td>0</td>\n",
              "    </tr>\n",
              "    <tr>\n",
              "      <th>1</th>\n",
              "      <td>2011-01-20 01:00:00</td>\n",
              "      <td>1</td>\n",
              "      <td>0</td>\n",
              "      <td>1</td>\n",
              "      <td>1</td>\n",
              "      <td>10.66</td>\n",
              "      <td>13.635</td>\n",
              "      <td>56</td>\n",
              "      <td>0.0000</td>\n",
              "      <td>1</td>\n",
              "      <td>0</td>\n",
              "      <td>0</td>\n",
              "      <td>0</td>\n",
              "    </tr>\n",
              "    <tr>\n",
              "      <th>2</th>\n",
              "      <td>2011-01-20 02:00:00</td>\n",
              "      <td>1</td>\n",
              "      <td>0</td>\n",
              "      <td>1</td>\n",
              "      <td>1</td>\n",
              "      <td>10.66</td>\n",
              "      <td>13.635</td>\n",
              "      <td>56</td>\n",
              "      <td>0.0000</td>\n",
              "      <td>1</td>\n",
              "      <td>0</td>\n",
              "      <td>0</td>\n",
              "      <td>0</td>\n",
              "    </tr>\n",
              "    <tr>\n",
              "      <th>3</th>\n",
              "      <td>2011-01-20 03:00:00</td>\n",
              "      <td>1</td>\n",
              "      <td>0</td>\n",
              "      <td>1</td>\n",
              "      <td>1</td>\n",
              "      <td>10.66</td>\n",
              "      <td>12.880</td>\n",
              "      <td>56</td>\n",
              "      <td>11.0014</td>\n",
              "      <td>1</td>\n",
              "      <td>0</td>\n",
              "      <td>0</td>\n",
              "      <td>0</td>\n",
              "    </tr>\n",
              "    <tr>\n",
              "      <th>4</th>\n",
              "      <td>2011-01-20 04:00:00</td>\n",
              "      <td>1</td>\n",
              "      <td>0</td>\n",
              "      <td>1</td>\n",
              "      <td>1</td>\n",
              "      <td>10.66</td>\n",
              "      <td>12.880</td>\n",
              "      <td>56</td>\n",
              "      <td>11.0014</td>\n",
              "      <td>1</td>\n",
              "      <td>0</td>\n",
              "      <td>0</td>\n",
              "      <td>0</td>\n",
              "    </tr>\n",
              "  </tbody>\n",
              "</table>\n",
              "</div>"
            ],
            "text/plain": [
              "              datetime  season  holiday  workingday  weather   temp   atemp  \\\n",
              "0  2011-01-20 00:00:00       1        0           1        1  10.66  11.365   \n",
              "1  2011-01-20 01:00:00       1        0           1        1  10.66  13.635   \n",
              "2  2011-01-20 02:00:00       1        0           1        1  10.66  13.635   \n",
              "3  2011-01-20 03:00:00       1        0           1        1  10.66  12.880   \n",
              "4  2011-01-20 04:00:00       1        0           1        1  10.66  12.880   \n",
              "\n",
              "   humidity  windspeed  season_1  season_2  season_3  season_4  \n",
              "0        56    26.0027         1         0         0         0  \n",
              "1        56     0.0000         1         0         0         0  \n",
              "2        56     0.0000         1         0         0         0  \n",
              "3        56    11.0014         1         0         0         0  \n",
              "4        56    11.0014         1         0         0         0  "
            ]
          },
          "metadata": {
            "tags": []
          },
          "execution_count": 15
        }
      ]
    },
    {
      "metadata": {
        "id": "vHkzcD4uLyGC",
        "colab_type": "text"
      },
      "cell_type": "markdown",
      "source": [
        "** 시즌 (1~4) 를 구간별로 나눈다. **"
      ]
    },
    {
      "metadata": {
        "id": "Rxd0BumNL3v-",
        "colab_type": "code",
        "outputId": "23ed1696-c5bf-45ee-8423-6b70cb3efacb",
        "colab": {
          "base_uri": "https://localhost:8080/",
          "height": 204
        }
      },
      "cell_type": "code",
      "source": [
        "weather = pd.get_dummies(train_c['weather'],prefix='weather')\n",
        "train_c = pd.concat([train_c,weather],axis=1)\n",
        "train_c.head()\n",
        "weather = pd.get_dummies(test_c['weather'],prefix='weather')\n",
        "test_c=pd.concat([test_c,weather],axis=1)\n",
        "test_c.head()"
      ],
      "execution_count": 16,
      "outputs": [
        {
          "output_type": "execute_result",
          "data": {
            "text/html": [
              "<div>\n",
              "<style scoped>\n",
              "    .dataframe tbody tr th:only-of-type {\n",
              "        vertical-align: middle;\n",
              "    }\n",
              "\n",
              "    .dataframe tbody tr th {\n",
              "        vertical-align: top;\n",
              "    }\n",
              "\n",
              "    .dataframe thead th {\n",
              "        text-align: right;\n",
              "    }\n",
              "</style>\n",
              "<table border=\"1\" class=\"dataframe\">\n",
              "  <thead>\n",
              "    <tr style=\"text-align: right;\">\n",
              "      <th></th>\n",
              "      <th>datetime</th>\n",
              "      <th>season</th>\n",
              "      <th>holiday</th>\n",
              "      <th>workingday</th>\n",
              "      <th>weather</th>\n",
              "      <th>temp</th>\n",
              "      <th>atemp</th>\n",
              "      <th>humidity</th>\n",
              "      <th>windspeed</th>\n",
              "      <th>season_1</th>\n",
              "      <th>season_2</th>\n",
              "      <th>season_3</th>\n",
              "      <th>season_4</th>\n",
              "      <th>weather_1</th>\n",
              "      <th>weather_2</th>\n",
              "      <th>weather_3</th>\n",
              "      <th>weather_4</th>\n",
              "    </tr>\n",
              "  </thead>\n",
              "  <tbody>\n",
              "    <tr>\n",
              "      <th>0</th>\n",
              "      <td>2011-01-20 00:00:00</td>\n",
              "      <td>1</td>\n",
              "      <td>0</td>\n",
              "      <td>1</td>\n",
              "      <td>1</td>\n",
              "      <td>10.66</td>\n",
              "      <td>11.365</td>\n",
              "      <td>56</td>\n",
              "      <td>26.0027</td>\n",
              "      <td>1</td>\n",
              "      <td>0</td>\n",
              "      <td>0</td>\n",
              "      <td>0</td>\n",
              "      <td>1</td>\n",
              "      <td>0</td>\n",
              "      <td>0</td>\n",
              "      <td>0</td>\n",
              "    </tr>\n",
              "    <tr>\n",
              "      <th>1</th>\n",
              "      <td>2011-01-20 01:00:00</td>\n",
              "      <td>1</td>\n",
              "      <td>0</td>\n",
              "      <td>1</td>\n",
              "      <td>1</td>\n",
              "      <td>10.66</td>\n",
              "      <td>13.635</td>\n",
              "      <td>56</td>\n",
              "      <td>0.0000</td>\n",
              "      <td>1</td>\n",
              "      <td>0</td>\n",
              "      <td>0</td>\n",
              "      <td>0</td>\n",
              "      <td>1</td>\n",
              "      <td>0</td>\n",
              "      <td>0</td>\n",
              "      <td>0</td>\n",
              "    </tr>\n",
              "    <tr>\n",
              "      <th>2</th>\n",
              "      <td>2011-01-20 02:00:00</td>\n",
              "      <td>1</td>\n",
              "      <td>0</td>\n",
              "      <td>1</td>\n",
              "      <td>1</td>\n",
              "      <td>10.66</td>\n",
              "      <td>13.635</td>\n",
              "      <td>56</td>\n",
              "      <td>0.0000</td>\n",
              "      <td>1</td>\n",
              "      <td>0</td>\n",
              "      <td>0</td>\n",
              "      <td>0</td>\n",
              "      <td>1</td>\n",
              "      <td>0</td>\n",
              "      <td>0</td>\n",
              "      <td>0</td>\n",
              "    </tr>\n",
              "    <tr>\n",
              "      <th>3</th>\n",
              "      <td>2011-01-20 03:00:00</td>\n",
              "      <td>1</td>\n",
              "      <td>0</td>\n",
              "      <td>1</td>\n",
              "      <td>1</td>\n",
              "      <td>10.66</td>\n",
              "      <td>12.880</td>\n",
              "      <td>56</td>\n",
              "      <td>11.0014</td>\n",
              "      <td>1</td>\n",
              "      <td>0</td>\n",
              "      <td>0</td>\n",
              "      <td>0</td>\n",
              "      <td>1</td>\n",
              "      <td>0</td>\n",
              "      <td>0</td>\n",
              "      <td>0</td>\n",
              "    </tr>\n",
              "    <tr>\n",
              "      <th>4</th>\n",
              "      <td>2011-01-20 04:00:00</td>\n",
              "      <td>1</td>\n",
              "      <td>0</td>\n",
              "      <td>1</td>\n",
              "      <td>1</td>\n",
              "      <td>10.66</td>\n",
              "      <td>12.880</td>\n",
              "      <td>56</td>\n",
              "      <td>11.0014</td>\n",
              "      <td>1</td>\n",
              "      <td>0</td>\n",
              "      <td>0</td>\n",
              "      <td>0</td>\n",
              "      <td>1</td>\n",
              "      <td>0</td>\n",
              "      <td>0</td>\n",
              "      <td>0</td>\n",
              "    </tr>\n",
              "  </tbody>\n",
              "</table>\n",
              "</div>"
            ],
            "text/plain": [
              "              datetime  season  holiday  workingday  weather   temp   atemp  \\\n",
              "0  2011-01-20 00:00:00       1        0           1        1  10.66  11.365   \n",
              "1  2011-01-20 01:00:00       1        0           1        1  10.66  13.635   \n",
              "2  2011-01-20 02:00:00       1        0           1        1  10.66  13.635   \n",
              "3  2011-01-20 03:00:00       1        0           1        1  10.66  12.880   \n",
              "4  2011-01-20 04:00:00       1        0           1        1  10.66  12.880   \n",
              "\n",
              "   humidity  windspeed  season_1  season_2  season_3  season_4  weather_1  \\\n",
              "0        56    26.0027         1         0         0         0          1   \n",
              "1        56     0.0000         1         0         0         0          1   \n",
              "2        56     0.0000         1         0         0         0          1   \n",
              "3        56    11.0014         1         0         0         0          1   \n",
              "4        56    11.0014         1         0         0         0          1   \n",
              "\n",
              "   weather_2  weather_3  weather_4  \n",
              "0          0          0          0  \n",
              "1          0          0          0  \n",
              "2          0          0          0  \n",
              "3          0          0          0  \n",
              "4          0          0          0  "
            ]
          },
          "metadata": {
            "tags": []
          },
          "execution_count": 16
        }
      ]
    },
    {
      "metadata": {
        "id": "gDCqE7IxL355",
        "colab_type": "text"
      },
      "cell_type": "markdown",
      "source": [
        "** 날씨도 마찬가지로 구간별로 나눈다 **"
      ]
    },
    {
      "metadata": {
        "id": "p7qEcR30MPf0",
        "colab_type": "code",
        "outputId": "28d53f84-37ba-438b-f249-8846f930e73f",
        "colab": {
          "base_uri": "https://localhost:8080/",
          "height": 204
        }
      },
      "cell_type": "code",
      "source": [
        "train_c.drop(['season','weather'],inplace=True,axis=1)\n",
        "train_c.head()\n",
        "test_c.drop(['season','weather'],inplace=True,axis=1)\n",
        "test_c.head()"
      ],
      "execution_count": 17,
      "outputs": [
        {
          "output_type": "execute_result",
          "data": {
            "text/html": [
              "<div>\n",
              "<style scoped>\n",
              "    .dataframe tbody tr th:only-of-type {\n",
              "        vertical-align: middle;\n",
              "    }\n",
              "\n",
              "    .dataframe tbody tr th {\n",
              "        vertical-align: top;\n",
              "    }\n",
              "\n",
              "    .dataframe thead th {\n",
              "        text-align: right;\n",
              "    }\n",
              "</style>\n",
              "<table border=\"1\" class=\"dataframe\">\n",
              "  <thead>\n",
              "    <tr style=\"text-align: right;\">\n",
              "      <th></th>\n",
              "      <th>datetime</th>\n",
              "      <th>holiday</th>\n",
              "      <th>workingday</th>\n",
              "      <th>temp</th>\n",
              "      <th>atemp</th>\n",
              "      <th>humidity</th>\n",
              "      <th>windspeed</th>\n",
              "      <th>season_1</th>\n",
              "      <th>season_2</th>\n",
              "      <th>season_3</th>\n",
              "      <th>season_4</th>\n",
              "      <th>weather_1</th>\n",
              "      <th>weather_2</th>\n",
              "      <th>weather_3</th>\n",
              "      <th>weather_4</th>\n",
              "    </tr>\n",
              "  </thead>\n",
              "  <tbody>\n",
              "    <tr>\n",
              "      <th>0</th>\n",
              "      <td>2011-01-20 00:00:00</td>\n",
              "      <td>0</td>\n",
              "      <td>1</td>\n",
              "      <td>10.66</td>\n",
              "      <td>11.365</td>\n",
              "      <td>56</td>\n",
              "      <td>26.0027</td>\n",
              "      <td>1</td>\n",
              "      <td>0</td>\n",
              "      <td>0</td>\n",
              "      <td>0</td>\n",
              "      <td>1</td>\n",
              "      <td>0</td>\n",
              "      <td>0</td>\n",
              "      <td>0</td>\n",
              "    </tr>\n",
              "    <tr>\n",
              "      <th>1</th>\n",
              "      <td>2011-01-20 01:00:00</td>\n",
              "      <td>0</td>\n",
              "      <td>1</td>\n",
              "      <td>10.66</td>\n",
              "      <td>13.635</td>\n",
              "      <td>56</td>\n",
              "      <td>0.0000</td>\n",
              "      <td>1</td>\n",
              "      <td>0</td>\n",
              "      <td>0</td>\n",
              "      <td>0</td>\n",
              "      <td>1</td>\n",
              "      <td>0</td>\n",
              "      <td>0</td>\n",
              "      <td>0</td>\n",
              "    </tr>\n",
              "    <tr>\n",
              "      <th>2</th>\n",
              "      <td>2011-01-20 02:00:00</td>\n",
              "      <td>0</td>\n",
              "      <td>1</td>\n",
              "      <td>10.66</td>\n",
              "      <td>13.635</td>\n",
              "      <td>56</td>\n",
              "      <td>0.0000</td>\n",
              "      <td>1</td>\n",
              "      <td>0</td>\n",
              "      <td>0</td>\n",
              "      <td>0</td>\n",
              "      <td>1</td>\n",
              "      <td>0</td>\n",
              "      <td>0</td>\n",
              "      <td>0</td>\n",
              "    </tr>\n",
              "    <tr>\n",
              "      <th>3</th>\n",
              "      <td>2011-01-20 03:00:00</td>\n",
              "      <td>0</td>\n",
              "      <td>1</td>\n",
              "      <td>10.66</td>\n",
              "      <td>12.880</td>\n",
              "      <td>56</td>\n",
              "      <td>11.0014</td>\n",
              "      <td>1</td>\n",
              "      <td>0</td>\n",
              "      <td>0</td>\n",
              "      <td>0</td>\n",
              "      <td>1</td>\n",
              "      <td>0</td>\n",
              "      <td>0</td>\n",
              "      <td>0</td>\n",
              "    </tr>\n",
              "    <tr>\n",
              "      <th>4</th>\n",
              "      <td>2011-01-20 04:00:00</td>\n",
              "      <td>0</td>\n",
              "      <td>1</td>\n",
              "      <td>10.66</td>\n",
              "      <td>12.880</td>\n",
              "      <td>56</td>\n",
              "      <td>11.0014</td>\n",
              "      <td>1</td>\n",
              "      <td>0</td>\n",
              "      <td>0</td>\n",
              "      <td>0</td>\n",
              "      <td>1</td>\n",
              "      <td>0</td>\n",
              "      <td>0</td>\n",
              "      <td>0</td>\n",
              "    </tr>\n",
              "  </tbody>\n",
              "</table>\n",
              "</div>"
            ],
            "text/plain": [
              "              datetime  holiday  workingday   temp   atemp  humidity  \\\n",
              "0  2011-01-20 00:00:00        0           1  10.66  11.365        56   \n",
              "1  2011-01-20 01:00:00        0           1  10.66  13.635        56   \n",
              "2  2011-01-20 02:00:00        0           1  10.66  13.635        56   \n",
              "3  2011-01-20 03:00:00        0           1  10.66  12.880        56   \n",
              "4  2011-01-20 04:00:00        0           1  10.66  12.880        56   \n",
              "\n",
              "   windspeed  season_1  season_2  season_3  season_4  weather_1  weather_2  \\\n",
              "0    26.0027         1         0         0         0          1          0   \n",
              "1     0.0000         1         0         0         0          1          0   \n",
              "2     0.0000         1         0         0         0          1          0   \n",
              "3    11.0014         1         0         0         0          1          0   \n",
              "4    11.0014         1         0         0         0          1          0   \n",
              "\n",
              "   weather_3  weather_4  \n",
              "0          0          0  \n",
              "1          0          0  \n",
              "2          0          0  \n",
              "3          0          0  \n",
              "4          0          0  "
            ]
          },
          "metadata": {
            "tags": []
          },
          "execution_count": 17
        }
      ]
    },
    {
      "metadata": {
        "id": "v1nOmuTdMT2v",
        "colab_type": "text"
      },
      "cell_type": "markdown",
      "source": [
        "** 데이터 분할을 해주었으니 필요없는 시즌과 날씨는 데이터프레임에서 삭제한다 **"
      ]
    },
    {
      "metadata": {
        "id": "oM7xDpBdMhgT",
        "colab_type": "code",
        "outputId": "67950c4a-ee93-41a8-a34a-2f5966b1d839",
        "colab": {
          "base_uri": "https://localhost:8080/",
          "height": 233
        }
      },
      "cell_type": "code",
      "source": [
        "train_c[\"hour\"] = [t.hour for t in pd.DatetimeIndex(train_c.datetime)]\n",
        "train_c[\"day\"] = [t.dayofweek for t in pd.DatetimeIndex(train_c.datetime)]\n",
        "train_c[\"month\"] = [t.month for t in pd.DatetimeIndex(train_c.datetime)]\n",
        "train_c['year'] = [t.year for t in pd.DatetimeIndex(train_c.datetime)]\n",
        "train_c['year'] = train_c['year'].map({2011:0, 2012:1})\n",
        "train_c.head()"
      ],
      "execution_count": 18,
      "outputs": [
        {
          "output_type": "execute_result",
          "data": {
            "text/html": [
              "<div>\n",
              "<style scoped>\n",
              "    .dataframe tbody tr th:only-of-type {\n",
              "        vertical-align: middle;\n",
              "    }\n",
              "\n",
              "    .dataframe tbody tr th {\n",
              "        vertical-align: top;\n",
              "    }\n",
              "\n",
              "    .dataframe thead th {\n",
              "        text-align: right;\n",
              "    }\n",
              "</style>\n",
              "<table border=\"1\" class=\"dataframe\">\n",
              "  <thead>\n",
              "    <tr style=\"text-align: right;\">\n",
              "      <th></th>\n",
              "      <th>datetime</th>\n",
              "      <th>holiday</th>\n",
              "      <th>workingday</th>\n",
              "      <th>temp</th>\n",
              "      <th>atemp</th>\n",
              "      <th>humidity</th>\n",
              "      <th>windspeed</th>\n",
              "      <th>casual</th>\n",
              "      <th>registered</th>\n",
              "      <th>count</th>\n",
              "      <th>...</th>\n",
              "      <th>season_3</th>\n",
              "      <th>season_4</th>\n",
              "      <th>weather_1</th>\n",
              "      <th>weather_2</th>\n",
              "      <th>weather_3</th>\n",
              "      <th>weather_4</th>\n",
              "      <th>hour</th>\n",
              "      <th>day</th>\n",
              "      <th>month</th>\n",
              "      <th>year</th>\n",
              "    </tr>\n",
              "  </thead>\n",
              "  <tbody>\n",
              "    <tr>\n",
              "      <th>0</th>\n",
              "      <td>2011-01-01 00:00:00</td>\n",
              "      <td>0</td>\n",
              "      <td>0</td>\n",
              "      <td>9.84</td>\n",
              "      <td>14.395</td>\n",
              "      <td>81</td>\n",
              "      <td>0.0</td>\n",
              "      <td>3</td>\n",
              "      <td>13</td>\n",
              "      <td>16</td>\n",
              "      <td>...</td>\n",
              "      <td>0</td>\n",
              "      <td>0</td>\n",
              "      <td>1</td>\n",
              "      <td>0</td>\n",
              "      <td>0</td>\n",
              "      <td>0</td>\n",
              "      <td>0</td>\n",
              "      <td>5</td>\n",
              "      <td>1</td>\n",
              "      <td>0</td>\n",
              "    </tr>\n",
              "    <tr>\n",
              "      <th>1</th>\n",
              "      <td>2011-01-01 01:00:00</td>\n",
              "      <td>0</td>\n",
              "      <td>0</td>\n",
              "      <td>9.02</td>\n",
              "      <td>13.635</td>\n",
              "      <td>80</td>\n",
              "      <td>0.0</td>\n",
              "      <td>8</td>\n",
              "      <td>32</td>\n",
              "      <td>40</td>\n",
              "      <td>...</td>\n",
              "      <td>0</td>\n",
              "      <td>0</td>\n",
              "      <td>1</td>\n",
              "      <td>0</td>\n",
              "      <td>0</td>\n",
              "      <td>0</td>\n",
              "      <td>1</td>\n",
              "      <td>5</td>\n",
              "      <td>1</td>\n",
              "      <td>0</td>\n",
              "    </tr>\n",
              "    <tr>\n",
              "      <th>2</th>\n",
              "      <td>2011-01-01 02:00:00</td>\n",
              "      <td>0</td>\n",
              "      <td>0</td>\n",
              "      <td>9.02</td>\n",
              "      <td>13.635</td>\n",
              "      <td>80</td>\n",
              "      <td>0.0</td>\n",
              "      <td>5</td>\n",
              "      <td>27</td>\n",
              "      <td>32</td>\n",
              "      <td>...</td>\n",
              "      <td>0</td>\n",
              "      <td>0</td>\n",
              "      <td>1</td>\n",
              "      <td>0</td>\n",
              "      <td>0</td>\n",
              "      <td>0</td>\n",
              "      <td>2</td>\n",
              "      <td>5</td>\n",
              "      <td>1</td>\n",
              "      <td>0</td>\n",
              "    </tr>\n",
              "    <tr>\n",
              "      <th>3</th>\n",
              "      <td>2011-01-01 03:00:00</td>\n",
              "      <td>0</td>\n",
              "      <td>0</td>\n",
              "      <td>9.84</td>\n",
              "      <td>14.395</td>\n",
              "      <td>75</td>\n",
              "      <td>0.0</td>\n",
              "      <td>3</td>\n",
              "      <td>10</td>\n",
              "      <td>13</td>\n",
              "      <td>...</td>\n",
              "      <td>0</td>\n",
              "      <td>0</td>\n",
              "      <td>1</td>\n",
              "      <td>0</td>\n",
              "      <td>0</td>\n",
              "      <td>0</td>\n",
              "      <td>3</td>\n",
              "      <td>5</td>\n",
              "      <td>1</td>\n",
              "      <td>0</td>\n",
              "    </tr>\n",
              "    <tr>\n",
              "      <th>4</th>\n",
              "      <td>2011-01-01 04:00:00</td>\n",
              "      <td>0</td>\n",
              "      <td>0</td>\n",
              "      <td>9.84</td>\n",
              "      <td>14.395</td>\n",
              "      <td>75</td>\n",
              "      <td>0.0</td>\n",
              "      <td>0</td>\n",
              "      <td>1</td>\n",
              "      <td>1</td>\n",
              "      <td>...</td>\n",
              "      <td>0</td>\n",
              "      <td>0</td>\n",
              "      <td>1</td>\n",
              "      <td>0</td>\n",
              "      <td>0</td>\n",
              "      <td>0</td>\n",
              "      <td>4</td>\n",
              "      <td>5</td>\n",
              "      <td>1</td>\n",
              "      <td>0</td>\n",
              "    </tr>\n",
              "  </tbody>\n",
              "</table>\n",
              "<p>5 rows × 22 columns</p>\n",
              "</div>"
            ],
            "text/plain": [
              "              datetime  holiday  workingday  temp   atemp  humidity  \\\n",
              "0  2011-01-01 00:00:00        0           0  9.84  14.395        81   \n",
              "1  2011-01-01 01:00:00        0           0  9.02  13.635        80   \n",
              "2  2011-01-01 02:00:00        0           0  9.02  13.635        80   \n",
              "3  2011-01-01 03:00:00        0           0  9.84  14.395        75   \n",
              "4  2011-01-01 04:00:00        0           0  9.84  14.395        75   \n",
              "\n",
              "   windspeed  casual  registered  count  ...   season_3  season_4  weather_1  \\\n",
              "0        0.0       3          13     16  ...          0         0          1   \n",
              "1        0.0       8          32     40  ...          0         0          1   \n",
              "2        0.0       5          27     32  ...          0         0          1   \n",
              "3        0.0       3          10     13  ...          0         0          1   \n",
              "4        0.0       0           1      1  ...          0         0          1   \n",
              "\n",
              "   weather_2  weather_3  weather_4  hour  day  month  year  \n",
              "0          0          0          0     0    5      1     0  \n",
              "1          0          0          0     1    5      1     0  \n",
              "2          0          0          0     2    5      1     0  \n",
              "3          0          0          0     3    5      1     0  \n",
              "4          0          0          0     4    5      1     0  \n",
              "\n",
              "[5 rows x 22 columns]"
            ]
          },
          "metadata": {
            "tags": []
          },
          "execution_count": 18
        }
      ]
    },
    {
      "metadata": {
        "id": "k_b_leJ8X6fk",
        "colab_type": "text"
      },
      "cell_type": "markdown",
      "source": [
        "** 시간에 따라서 자전거 임대에 많은 영향을 끼친다는가정을 하고 datetime을 년, 월,일 시간 으로 나눈다 . **"
      ]
    },
    {
      "metadata": {
        "id": "ECb8g7XdYNP8",
        "colab_type": "code",
        "outputId": "b5d592dd-c8f7-4743-f3eb-e510adc493f1",
        "colab": {
          "base_uri": "https://localhost:8080/",
          "height": 204
        }
      },
      "cell_type": "code",
      "source": [
        "test_c[\"hour\"] = [t.hour for t in pd.DatetimeIndex(test_c.datetime)]\n",
        "test_c[\"day\"] = [t.dayofweek for t in pd.DatetimeIndex(test_c.datetime)]\n",
        "test_c[\"month\"] = [t.month for t in pd.DatetimeIndex(test_c.datetime)]\n",
        "test_c['year'] = [t.year for t in pd.DatetimeIndex(test_c.datetime)]\n",
        "test_c['year'] = test_c['year'].map({2011:0, 2012:1})\n",
        "test_c.head()"
      ],
      "execution_count": 19,
      "outputs": [
        {
          "output_type": "execute_result",
          "data": {
            "text/html": [
              "<div>\n",
              "<style scoped>\n",
              "    .dataframe tbody tr th:only-of-type {\n",
              "        vertical-align: middle;\n",
              "    }\n",
              "\n",
              "    .dataframe tbody tr th {\n",
              "        vertical-align: top;\n",
              "    }\n",
              "\n",
              "    .dataframe thead th {\n",
              "        text-align: right;\n",
              "    }\n",
              "</style>\n",
              "<table border=\"1\" class=\"dataframe\">\n",
              "  <thead>\n",
              "    <tr style=\"text-align: right;\">\n",
              "      <th></th>\n",
              "      <th>datetime</th>\n",
              "      <th>holiday</th>\n",
              "      <th>workingday</th>\n",
              "      <th>temp</th>\n",
              "      <th>atemp</th>\n",
              "      <th>humidity</th>\n",
              "      <th>windspeed</th>\n",
              "      <th>season_1</th>\n",
              "      <th>season_2</th>\n",
              "      <th>season_3</th>\n",
              "      <th>season_4</th>\n",
              "      <th>weather_1</th>\n",
              "      <th>weather_2</th>\n",
              "      <th>weather_3</th>\n",
              "      <th>weather_4</th>\n",
              "      <th>hour</th>\n",
              "      <th>day</th>\n",
              "      <th>month</th>\n",
              "      <th>year</th>\n",
              "    </tr>\n",
              "  </thead>\n",
              "  <tbody>\n",
              "    <tr>\n",
              "      <th>0</th>\n",
              "      <td>2011-01-20 00:00:00</td>\n",
              "      <td>0</td>\n",
              "      <td>1</td>\n",
              "      <td>10.66</td>\n",
              "      <td>11.365</td>\n",
              "      <td>56</td>\n",
              "      <td>26.0027</td>\n",
              "      <td>1</td>\n",
              "      <td>0</td>\n",
              "      <td>0</td>\n",
              "      <td>0</td>\n",
              "      <td>1</td>\n",
              "      <td>0</td>\n",
              "      <td>0</td>\n",
              "      <td>0</td>\n",
              "      <td>0</td>\n",
              "      <td>3</td>\n",
              "      <td>1</td>\n",
              "      <td>0</td>\n",
              "    </tr>\n",
              "    <tr>\n",
              "      <th>1</th>\n",
              "      <td>2011-01-20 01:00:00</td>\n",
              "      <td>0</td>\n",
              "      <td>1</td>\n",
              "      <td>10.66</td>\n",
              "      <td>13.635</td>\n",
              "      <td>56</td>\n",
              "      <td>0.0000</td>\n",
              "      <td>1</td>\n",
              "      <td>0</td>\n",
              "      <td>0</td>\n",
              "      <td>0</td>\n",
              "      <td>1</td>\n",
              "      <td>0</td>\n",
              "      <td>0</td>\n",
              "      <td>0</td>\n",
              "      <td>1</td>\n",
              "      <td>3</td>\n",
              "      <td>1</td>\n",
              "      <td>0</td>\n",
              "    </tr>\n",
              "    <tr>\n",
              "      <th>2</th>\n",
              "      <td>2011-01-20 02:00:00</td>\n",
              "      <td>0</td>\n",
              "      <td>1</td>\n",
              "      <td>10.66</td>\n",
              "      <td>13.635</td>\n",
              "      <td>56</td>\n",
              "      <td>0.0000</td>\n",
              "      <td>1</td>\n",
              "      <td>0</td>\n",
              "      <td>0</td>\n",
              "      <td>0</td>\n",
              "      <td>1</td>\n",
              "      <td>0</td>\n",
              "      <td>0</td>\n",
              "      <td>0</td>\n",
              "      <td>2</td>\n",
              "      <td>3</td>\n",
              "      <td>1</td>\n",
              "      <td>0</td>\n",
              "    </tr>\n",
              "    <tr>\n",
              "      <th>3</th>\n",
              "      <td>2011-01-20 03:00:00</td>\n",
              "      <td>0</td>\n",
              "      <td>1</td>\n",
              "      <td>10.66</td>\n",
              "      <td>12.880</td>\n",
              "      <td>56</td>\n",
              "      <td>11.0014</td>\n",
              "      <td>1</td>\n",
              "      <td>0</td>\n",
              "      <td>0</td>\n",
              "      <td>0</td>\n",
              "      <td>1</td>\n",
              "      <td>0</td>\n",
              "      <td>0</td>\n",
              "      <td>0</td>\n",
              "      <td>3</td>\n",
              "      <td>3</td>\n",
              "      <td>1</td>\n",
              "      <td>0</td>\n",
              "    </tr>\n",
              "    <tr>\n",
              "      <th>4</th>\n",
              "      <td>2011-01-20 04:00:00</td>\n",
              "      <td>0</td>\n",
              "      <td>1</td>\n",
              "      <td>10.66</td>\n",
              "      <td>12.880</td>\n",
              "      <td>56</td>\n",
              "      <td>11.0014</td>\n",
              "      <td>1</td>\n",
              "      <td>0</td>\n",
              "      <td>0</td>\n",
              "      <td>0</td>\n",
              "      <td>1</td>\n",
              "      <td>0</td>\n",
              "      <td>0</td>\n",
              "      <td>0</td>\n",
              "      <td>4</td>\n",
              "      <td>3</td>\n",
              "      <td>1</td>\n",
              "      <td>0</td>\n",
              "    </tr>\n",
              "  </tbody>\n",
              "</table>\n",
              "</div>"
            ],
            "text/plain": [
              "              datetime  holiday  workingday   temp   atemp  humidity  \\\n",
              "0  2011-01-20 00:00:00        0           1  10.66  11.365        56   \n",
              "1  2011-01-20 01:00:00        0           1  10.66  13.635        56   \n",
              "2  2011-01-20 02:00:00        0           1  10.66  13.635        56   \n",
              "3  2011-01-20 03:00:00        0           1  10.66  12.880        56   \n",
              "4  2011-01-20 04:00:00        0           1  10.66  12.880        56   \n",
              "\n",
              "   windspeed  season_1  season_2  season_3  season_4  weather_1  weather_2  \\\n",
              "0    26.0027         1         0         0         0          1          0   \n",
              "1     0.0000         1         0         0         0          1          0   \n",
              "2     0.0000         1         0         0         0          1          0   \n",
              "3    11.0014         1         0         0         0          1          0   \n",
              "4    11.0014         1         0         0         0          1          0   \n",
              "\n",
              "   weather_3  weather_4  hour  day  month  year  \n",
              "0          0          0     0    3      1     0  \n",
              "1          0          0     1    3      1     0  \n",
              "2          0          0     2    3      1     0  \n",
              "3          0          0     3    3      1     0  \n",
              "4          0          0     4    3      1     0  "
            ]
          },
          "metadata": {
            "tags": []
          },
          "execution_count": 19
        }
      ]
    },
    {
      "metadata": {
        "id": "doXn48EYYYIw",
        "colab_type": "text"
      },
      "cell_type": "markdown",
      "source": [
        "** 테스트셋도 위와 같은 형태로 변환해준다. **"
      ]
    },
    {
      "metadata": {
        "id": "U03gv1WyYbgo",
        "colab_type": "code",
        "outputId": "db9669be-c658-4cfe-94b6-f93334f9dc95",
        "colab": {
          "base_uri": "https://localhost:8080/",
          "height": 233
        }
      },
      "cell_type": "code",
      "source": [
        "train_c.drop('datetime',axis=1,inplace=True)\n",
        "train_c.head()"
      ],
      "execution_count": 20,
      "outputs": [
        {
          "output_type": "execute_result",
          "data": {
            "text/html": [
              "<div>\n",
              "<style scoped>\n",
              "    .dataframe tbody tr th:only-of-type {\n",
              "        vertical-align: middle;\n",
              "    }\n",
              "\n",
              "    .dataframe tbody tr th {\n",
              "        vertical-align: top;\n",
              "    }\n",
              "\n",
              "    .dataframe thead th {\n",
              "        text-align: right;\n",
              "    }\n",
              "</style>\n",
              "<table border=\"1\" class=\"dataframe\">\n",
              "  <thead>\n",
              "    <tr style=\"text-align: right;\">\n",
              "      <th></th>\n",
              "      <th>holiday</th>\n",
              "      <th>workingday</th>\n",
              "      <th>temp</th>\n",
              "      <th>atemp</th>\n",
              "      <th>humidity</th>\n",
              "      <th>windspeed</th>\n",
              "      <th>casual</th>\n",
              "      <th>registered</th>\n",
              "      <th>count</th>\n",
              "      <th>season_1</th>\n",
              "      <th>...</th>\n",
              "      <th>season_3</th>\n",
              "      <th>season_4</th>\n",
              "      <th>weather_1</th>\n",
              "      <th>weather_2</th>\n",
              "      <th>weather_3</th>\n",
              "      <th>weather_4</th>\n",
              "      <th>hour</th>\n",
              "      <th>day</th>\n",
              "      <th>month</th>\n",
              "      <th>year</th>\n",
              "    </tr>\n",
              "  </thead>\n",
              "  <tbody>\n",
              "    <tr>\n",
              "      <th>0</th>\n",
              "      <td>0</td>\n",
              "      <td>0</td>\n",
              "      <td>9.84</td>\n",
              "      <td>14.395</td>\n",
              "      <td>81</td>\n",
              "      <td>0.0</td>\n",
              "      <td>3</td>\n",
              "      <td>13</td>\n",
              "      <td>16</td>\n",
              "      <td>1</td>\n",
              "      <td>...</td>\n",
              "      <td>0</td>\n",
              "      <td>0</td>\n",
              "      <td>1</td>\n",
              "      <td>0</td>\n",
              "      <td>0</td>\n",
              "      <td>0</td>\n",
              "      <td>0</td>\n",
              "      <td>5</td>\n",
              "      <td>1</td>\n",
              "      <td>0</td>\n",
              "    </tr>\n",
              "    <tr>\n",
              "      <th>1</th>\n",
              "      <td>0</td>\n",
              "      <td>0</td>\n",
              "      <td>9.02</td>\n",
              "      <td>13.635</td>\n",
              "      <td>80</td>\n",
              "      <td>0.0</td>\n",
              "      <td>8</td>\n",
              "      <td>32</td>\n",
              "      <td>40</td>\n",
              "      <td>1</td>\n",
              "      <td>...</td>\n",
              "      <td>0</td>\n",
              "      <td>0</td>\n",
              "      <td>1</td>\n",
              "      <td>0</td>\n",
              "      <td>0</td>\n",
              "      <td>0</td>\n",
              "      <td>1</td>\n",
              "      <td>5</td>\n",
              "      <td>1</td>\n",
              "      <td>0</td>\n",
              "    </tr>\n",
              "    <tr>\n",
              "      <th>2</th>\n",
              "      <td>0</td>\n",
              "      <td>0</td>\n",
              "      <td>9.02</td>\n",
              "      <td>13.635</td>\n",
              "      <td>80</td>\n",
              "      <td>0.0</td>\n",
              "      <td>5</td>\n",
              "      <td>27</td>\n",
              "      <td>32</td>\n",
              "      <td>1</td>\n",
              "      <td>...</td>\n",
              "      <td>0</td>\n",
              "      <td>0</td>\n",
              "      <td>1</td>\n",
              "      <td>0</td>\n",
              "      <td>0</td>\n",
              "      <td>0</td>\n",
              "      <td>2</td>\n",
              "      <td>5</td>\n",
              "      <td>1</td>\n",
              "      <td>0</td>\n",
              "    </tr>\n",
              "    <tr>\n",
              "      <th>3</th>\n",
              "      <td>0</td>\n",
              "      <td>0</td>\n",
              "      <td>9.84</td>\n",
              "      <td>14.395</td>\n",
              "      <td>75</td>\n",
              "      <td>0.0</td>\n",
              "      <td>3</td>\n",
              "      <td>10</td>\n",
              "      <td>13</td>\n",
              "      <td>1</td>\n",
              "      <td>...</td>\n",
              "      <td>0</td>\n",
              "      <td>0</td>\n",
              "      <td>1</td>\n",
              "      <td>0</td>\n",
              "      <td>0</td>\n",
              "      <td>0</td>\n",
              "      <td>3</td>\n",
              "      <td>5</td>\n",
              "      <td>1</td>\n",
              "      <td>0</td>\n",
              "    </tr>\n",
              "    <tr>\n",
              "      <th>4</th>\n",
              "      <td>0</td>\n",
              "      <td>0</td>\n",
              "      <td>9.84</td>\n",
              "      <td>14.395</td>\n",
              "      <td>75</td>\n",
              "      <td>0.0</td>\n",
              "      <td>0</td>\n",
              "      <td>1</td>\n",
              "      <td>1</td>\n",
              "      <td>1</td>\n",
              "      <td>...</td>\n",
              "      <td>0</td>\n",
              "      <td>0</td>\n",
              "      <td>1</td>\n",
              "      <td>0</td>\n",
              "      <td>0</td>\n",
              "      <td>0</td>\n",
              "      <td>4</td>\n",
              "      <td>5</td>\n",
              "      <td>1</td>\n",
              "      <td>0</td>\n",
              "    </tr>\n",
              "  </tbody>\n",
              "</table>\n",
              "<p>5 rows × 21 columns</p>\n",
              "</div>"
            ],
            "text/plain": [
              "   holiday  workingday  temp   atemp  humidity  windspeed  casual  registered  \\\n",
              "0        0           0  9.84  14.395        81        0.0       3          13   \n",
              "1        0           0  9.02  13.635        80        0.0       8          32   \n",
              "2        0           0  9.02  13.635        80        0.0       5          27   \n",
              "3        0           0  9.84  14.395        75        0.0       3          10   \n",
              "4        0           0  9.84  14.395        75        0.0       0           1   \n",
              "\n",
              "   count  season_1  ...   season_3  season_4  weather_1  weather_2  weather_3  \\\n",
              "0     16         1  ...          0         0          1          0          0   \n",
              "1     40         1  ...          0         0          1          0          0   \n",
              "2     32         1  ...          0         0          1          0          0   \n",
              "3     13         1  ...          0         0          1          0          0   \n",
              "4      1         1  ...          0         0          1          0          0   \n",
              "\n",
              "   weather_4  hour  day  month  year  \n",
              "0          0     0    5      1     0  \n",
              "1          0     1    5      1     0  \n",
              "2          0     2    5      1     0  \n",
              "3          0     3    5      1     0  \n",
              "4          0     4    5      1     0  \n",
              "\n",
              "[5 rows x 21 columns]"
            ]
          },
          "metadata": {
            "tags": []
          },
          "execution_count": 20
        }
      ]
    },
    {
      "metadata": {
        "id": "vlAfpcymYki0",
        "colab_type": "text"
      },
      "cell_type": "markdown",
      "source": [
        "** 필요없는 datetime 제거 **"
      ]
    },
    {
      "metadata": {
        "id": "hLj9u5dcZXUb",
        "colab_type": "text"
      },
      "cell_type": "markdown",
      "source": [
        "#### hour분석"
      ]
    },
    {
      "metadata": {
        "id": "-HoRN4UUYoG2",
        "colab_type": "code",
        "outputId": "ae2d881d-7c82-45f2-dc3b-00df74d8d13b",
        "colab": {
          "base_uri": "https://localhost:8080/",
          "height": 379
        }
      },
      "cell_type": "code",
      "source": [
        "sns.barplot(x='hour',y='count',data=train_c)"
      ],
      "execution_count": 21,
      "outputs": [
        {
          "output_type": "execute_result",
          "data": {
            "text/plain": [
              "<matplotlib.axes._subplots.AxesSubplot at 0x7fa7760ec198>"
            ]
          },
          "metadata": {
            "tags": []
          },
          "execution_count": 21
        },
        {
          "output_type": "display_data",
          "data": {
            "image/png": "[encoded data removed]",
            "text/plain": [
              "<Figure size 576x396 with 1 Axes>"
            ]
          },
          "metadata": {
            "tags": []
          }
        }
      ]
    },
    {
      "metadata": {
        "id": "RPLVlf8q8QMq",
        "colab_type": "text"
      },
      "cell_type": "markdown",
      "source": [
        "** 알수 있는 사실: 8시 17,18시가 임대가 많았다. **"
      ]
    },
    {
      "metadata": {
        "id": "-qhIK3khLNpT",
        "colab_type": "text"
      },
      "cell_type": "markdown",
      "source": [
        "### month분석"
      ]
    },
    {
      "metadata": {
        "id": "4kX-rtiq9MmA",
        "colab_type": "code",
        "outputId": "bafbb167-f804-4b5e-cd70-65be97856b5e",
        "colab": {
          "base_uri": "https://localhost:8080/",
          "height": 383
        }
      },
      "cell_type": "code",
      "source": [
        "sns.factorplot(x=\"month\",y=\"count\",data=train_c,kind='bar',size=5,aspect=1.5)"
      ],
      "execution_count": 22,
      "outputs": [
        {
          "output_type": "execute_result",
          "data": {
            "text/plain": [
              "<seaborn.axisgrid.FacetGrid at 0x7fa7748ceb00>"
            ]
          },
          "metadata": {
            "tags": []
          },
          "execution_count": 22
        },
        {
          "output_type": "display_data",
          "data": {
            "image/png": "[encoded data removed]",
            "text/plain": [
              "<Figure size 540x360 with 1 Axes>"
            ]
          },
          "metadata": {
            "tags": []
          }
        }
      ]
    },
    {
      "metadata": {
        "id": "yRh9yEaZ9MBP",
        "colab_type": "text"
      },
      "cell_type": "markdown",
      "source": [
        "** 6월 ~ 10월 까지 임대가 많았다. **"
      ]
    },
    {
      "metadata": {
        "id": "FF28msdaLRa3",
        "colab_type": "text"
      },
      "cell_type": "markdown",
      "source": [
        "### year분석"
      ]
    },
    {
      "metadata": {
        "id": "8WKqlMAG94z6",
        "colab_type": "code",
        "outputId": "1b6e44b4-251f-4516-b5d8-a66bc226e94b",
        "colab": {
          "base_uri": "https://localhost:8080/",
          "height": 383
        }
      },
      "cell_type": "code",
      "source": [
        "sns.factorplot(x=\"year\",y=\"count\",data=train_c,kind='bar',size=5,aspect=1.5)"
      ],
      "execution_count": 23,
      "outputs": [
        {
          "output_type": "execute_result",
          "data": {
            "text/plain": [
              "<seaborn.axisgrid.FacetGrid at 0x7fa774886f98>"
            ]
          },
          "metadata": {
            "tags": []
          },
          "execution_count": 23
        },
        {
          "output_type": "display_data",
          "data": {
            "image/png": "[encoded data removed]",
            "text/plain": [
              "<Figure size 540x360 with 1 Axes>"
            ]
          },
          "metadata": {
            "tags": []
          }
        }
      ]
    },
    {
      "metadata": {
        "id": "y7uYSPWP-Fwn",
        "colab_type": "text"
      },
      "cell_type": "markdown",
      "source": [
        "** 위에서 2011년 데이터는 0으로 변경해주었고 2012년은 1로 변경해주었다. **\n",
        "** 2012년이 임대수요가 많았다. **"
      ]
    },
    {
      "metadata": {
        "id": "CbYz-blQLT4H",
        "colab_type": "text"
      },
      "cell_type": "markdown",
      "source": [
        "### day분석"
      ]
    },
    {
      "metadata": {
        "id": "-pYr2vnJ-TTs",
        "colab_type": "code",
        "outputId": "967a2e68-733d-4bfd-ccc4-6be37303c630",
        "colab": {
          "base_uri": "https://localhost:8080/",
          "height": 383
        }
      },
      "cell_type": "code",
      "source": [
        "sns.factorplot(x=\"day\",y='count',kind='bar',data=train_c,size=5,aspect=1)"
      ],
      "execution_count": 24,
      "outputs": [
        {
          "output_type": "execute_result",
          "data": {
            "text/plain": [
              "<seaborn.axisgrid.FacetGrid at 0x7fa774803400>"
            ]
          },
          "metadata": {
            "tags": []
          },
          "execution_count": 24
        },
        {
          "output_type": "display_data",
          "data": {
            "image/png": "[encoded data removed]",
            "text/plain": [
              "<Figure size 360x360 with 1 Axes>"
            ]
          },
          "metadata": {
            "tags": []
          }
        }
      ]
    },
    {
      "metadata": {
        "id": "k8IVlw6O-au6",
        "colab_type": "text"
      },
      "cell_type": "markdown",
      "source": [
        "** 월요일 ~ 일요일 까지 데이터들은 차이가 별로 없다는것을 알 수 있다. **"
      ]
    },
    {
      "metadata": {
        "id": "935Yo5_q_djy",
        "colab_type": "text"
      },
      "cell_type": "markdown",
      "source": [
        "## 모델링"
      ]
    },
    {
      "metadata": {
        "id": "hHfFDbCN_xnW",
        "colab_type": "code",
        "colab": {}
      },
      "cell_type": "code",
      "source": [
        "# 모델알고리즘\n",
        "from sklearn.linear_model import LogisticRegression\n",
        "from sklearn.ensemble import RandomForestRegressor,BaggingRegressor,GradientBoostingRegressor,AdaBoostRegressor\n",
        "from sklearn.svm import SVR\n",
        "from sklearn.neighbors import KNeighborsRegressor\n",
        "\n",
        "#모델 설계 도움되는 라이브러리\n",
        "from sklearn.model_selection import train_test_split\n",
        "from sklearn.model_selection import GridSearchCV\n",
        "from sklearn.metrics import mean_squared_log_error"
      ],
      "execution_count": 0,
      "outputs": []
    },
    {
      "metadata": {
        "id": "SBeeSLEoAPys",
        "colab_type": "code",
        "colab": {}
      },
      "cell_type": "code",
      "source": [
        "x_train,x_test,y_train,y_test=train_test_split(train_c.drop('count',axis=1),train_c['count'],test_size=0.25,random_state=42)"
      ],
      "execution_count": 0,
      "outputs": []
    },
    {
      "metadata": {
        "id": "DASS9Hn4AYdn",
        "colab_type": "text"
      },
      "cell_type": "markdown",
      "source": [
        "** 데이터셋을 분할 한다 학습용데이터에 예측해야할 count가 있으므로 제외한다.  학습용 데이터 75 테스트용 데이터 25로 분할함. **"
      ]
    },
    {
      "metadata": {
        "id": "gaKiBWroA-7X",
        "colab_type": "code",
        "colab": {}
      },
      "cell_type": "code",
      "source": [
        "models =[RandomForestRegressor(),SVR(),KNeighborsRegressor(),BaggingRegressor(),GradientBoostingRegressor(),AdaBoostRegressor(),LogisticRegression()]\n",
        "\n",
        "model_name = ['RandomForestRegressor','SVR','KNeighborsRegressor','BaggingRegressor','GradientBoostingRegressor','AdaBoostRegressor','LogisticRegression']\n",
        "RMSLE =[]\n",
        "d = {}\n",
        "for model in range(len(models)):\n",
        "  clf = models[model]\n",
        "  clf.fit(x_train,y_train)\n",
        "  predcit_test = clf.predict(x_test)\n",
        "  RMSLE.append(np.sqrt(mean_squared_log_error(predcit_test,y_test)))\n",
        "\n",
        "d = {'Model Algorithm':model_name,'RMSLE':RMSLE}\n"
      ],
      "execution_count": 0,
      "outputs": []
    },
    {
      "metadata": {
        "id": "-2tA-e1vF45n",
        "colab_type": "code",
        "outputId": "1d9b38dd-5f10-4963-e4eb-c50e6413e63e",
        "colab": {
          "base_uri": "https://localhost:8080/",
          "height": 383
        }
      },
      "cell_type": "code",
      "source": [
        "\n",
        "rmsle= pd.DataFrame(d)\n",
        "\n",
        "sns.factorplot(y='Model Algorithm',x='RMSLE',data=rmsle,kind='bar',size=5,aspect=2)"
      ],
      "execution_count": 28,
      "outputs": [
        {
          "output_type": "execute_result",
          "data": {
            "text/plain": [
              "<seaborn.axisgrid.FacetGrid at 0x7fa76ffb9240>"
            ]
          },
          "metadata": {
            "tags": []
          },
          "execution_count": 28
        },
        {
          "output_type": "display_data",
          "data": {
            "image/png": "[encoded data removed]",
            "text/plain": [
              "<Figure size 720x360 with 1 Axes>"
            ]
          },
          "metadata": {
            "tags": []
          }
        }
      ]
    },
    {
      "metadata": {
        "id": "BWsaDIGRDu4D",
        "colab_type": "text"
      },
      "cell_type": "markdown",
      "source": [
        "** RMSLE **\n",
        "\n",
        "과대평가 된 항목보다는 과소평가 된 항목에 페널티를 준다.\n",
        "\n",
        "오차(Error)를 제곱(Square)해서 평균(Mean)한 값의 제곱근(Root)으로 값이 작을수록 정밀도가 높다.\n",
        "\n",
        "0에 가까운 값이 나올수록 정밀도가 높은 값이다.\n",
        "\n",
        "출처: 프로그래머스\n",
        "\n",
        "** 즉 사용한 기법들중 랜덤포레스트기법이 정확도가 높다는것임. ** "
      ]
    }
  ]
}