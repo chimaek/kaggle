{
  "nbformat": 4,
  "nbformat_minor": 0,
  "metadata": {
    "colab": {
      "name": "titanic_test.ipynb",
      "version": "0.3.2",
      "provenance": [],
      "collapsed_sections": [
        "_N_Qwp_vcEva",
        "oWGApg8QlYuE",
        "iUKD20gWneZI",
        "soFDhhnrueX6",
        "z0v0tWf4ynYi",
        "KU6OIPMa6SJF",
        "1U8XN1JI9ixv",
        "I4TEj2E7A8Jp",
        "eJs21qsROHW1",
        "WqwrOhr9OvD0",
        "R6u2b2MePMko",
        "_ykCqR_eQNNR",
        "qNYQnIPJUy59",
        "-IB_9XkEW9cZ"
      ],
      "include_colab_link": true
    },
    "kernelspec": {
      "name": "python3",
      "display_name": "Python 3"
    }
  },
  "cells": [
    {
      "cell_type": "markdown",
      "metadata": {
        "id": "view-in-github",
        "colab_type": "text"
      },
      "source": [
        "<a href=\"https://colab.research.google.com/github/chimaek/kaggle/blob/master/titanic_test.ipynb\" target=\"_parent\"><img src=\"https://colab.research.google.com/assets/colab-badge.svg\" alt=\"Open In Colab\"/></a>"
      ]
    },
    {
      "metadata": {
        "id": "RxRHhmdUbqLb",
        "colab_type": "text"
      },
      "cell_type": "markdown",
      "source": [
        "# 타이타닉 미션!!!!\n",
        "\n",
        "*   김 승주\n",
        "*   허 지식\n",
        "*   강 용재\n",
        "*   박 다은\n"
      ]
    },
    {
      "metadata": {
        "id": "_N_Qwp_vcEva",
        "colab_type": "text"
      },
      "cell_type": "markdown",
      "source": [
        "## 사전 준비(라이브러리 추가 및 캐글 데이터 다운로드)"
      ]
    },
    {
      "metadata": {
        "id": "s89_YzYy4AVO",
        "colab_type": "code",
        "outputId": "282e409e-dac7-48ca-e3ad-68f4e4b3646f",
        "colab": {
          "resources": {
            "http://localhost:8080/nbextensions/google.colab/files.js": {
              "data": "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",
              "ok": true,
              "headers": [
                [
                  "content-type",
                  "application/javascript"
                ]
              ],
              "status": 200,
              "status_text": ""
            }
          },
          "base_uri": "https://localhost:8080/",
          "height": 94
        }
      },
      "cell_type": "code",
      "source": [
        "from google.colab import files\n",
        "files.upload()"
      ],
      "execution_count": 0,
      "outputs": [
        {
          "output_type": "display_data",
          "data": {
            "text/html": [
              "\n",
              "     <input type=\"file\" id=\"files-0c18a92d-55a5-4a77-9fcf-7f584c00b0d9\" name=\"files[]\" multiple disabled />\n",
              "     <output id=\"result-0c18a92d-55a5-4a77-9fcf-7f584c00b0d9\">\n",
              "      Upload widget is only available when the cell has been executed in the\n",
              "      current browser session. Please rerun this cell to enable.\n",
              "      </output>\n",
              "      <script src=\"/nbextensions/google.colab/files.js\"></script> "
            ],
            "text/plain": [
              "<IPython.core.display.HTML object>"
            ]
          },
          "metadata": {
            "tags": []
          }
        },
        {
          "output_type": "stream",
          "text": [
            "Saving kaggle.json to kaggle (2).json\n"
          ],
          "name": "stdout"
        },
        {
          "output_type": "execute_result",
          "data": {
            "text/plain": [
              "{'kaggle.json': b'{\"username\":\"chimaek\",\"key\":\"309f875c059cb8a4f4a380cee24f1941\"}'}"
            ]
          },
          "metadata": {
            "tags": []
          },
          "execution_count": 1
        }
      ]
    },
    {
      "metadata": {
        "id": "JtJxusFF4a9L",
        "colab_type": "code",
        "colab": {}
      },
      "cell_type": "code",
      "source": [
        "!mkdir -p ~/.kaggle\n",
        "# 드라이브 내 파일 생성\n",
        "!cp kaggle.json ~/.kaggle/\n",
        "# Permission Warning 이 일어나지 않도록 \n",
        "!chmod 600 ~/.kaggle/kaggle.json"
      ],
      "execution_count": 0,
      "outputs": []
    },
    {
      "metadata": {
        "id": "Inkeh1cm4ft9",
        "colab_type": "code",
        "outputId": "838215fa-39d9-47ab-9bce-230d4c1a6d66",
        "colab": {
          "base_uri": "https://localhost:8080/",
          "height": 71
        }
      },
      "cell_type": "code",
      "source": [
        "!kaggle competitions download -c 2019-1st-ml-month-with-kakr\n",
        "# 캐글 competition에서 파일을 가져오는 명령"
      ],
      "execution_count": 0,
      "outputs": [
        {
          "output_type": "stream",
          "text": [
            "sample_submission.csv: Skipping, found more recently modified local copy (use --force to force download)\n",
            "test.csv: Skipping, found more recently modified local copy (use --force to force download)\n",
            "train.csv: Skipping, found more recently modified local copy (use --force to force download)\n"
          ],
          "name": "stdout"
        }
      ]
    },
    {
      "metadata": {
        "id": "hYtzmvSV4omq",
        "colab_type": "code",
        "colab": {}
      },
      "cell_type": "code",
      "source": [
        "import numpy as np\n",
        "# 행렬 연산 라이브러리\n",
        "\n",
        "import pandas as pd\n",
        "# 데이터 프레임 라이브러리\n",
        "\n",
        "import matplotlib.pyplot as plt\n",
        "%matplotlib inline\n",
        "# 시각화(그래프) 라이브러리\n",
        "\n",
        "import seaborn as sns\n",
        "# 시각화(그래프) 라이브러리\n",
        "\n",
        "import warnings\n",
        "warnings.filterwarnings('ignore')\n",
        "# 비추천 경고 무시\n",
        "\n",
        "import re\n",
        "# 정규화에 도움을 주는 라이브러리\n",
        "\n",
        "# 그래프 설정\n",
        "plt.rcParams['figure.figsize'] = (16,9)\n",
        "sns.set_palette('gist_earth')\n",
        "\n",
        "import missingno as msno\n",
        "# Null 값을 쉽게 시각화 해주는 라이브러리\n",
        "\n",
        "from sklearn.ensemble import RandomForestRegressor\n",
        "from sklearn.pipeline import Pipeline,make_pipeline\n",
        "from sklearn.ensemble import RandomForestClassifier\n",
        "from sklearn.feature_selection import SelectKBest\n",
        "from sklearn import model_selection\n",
        "from sklearn.model_selection import GridSearchCV\n",
        "# 모델 생성을 위한 알고리즘\n"
      ],
      "execution_count": 0,
      "outputs": []
    },
    {
      "metadata": {
        "id": "Y0odhghehil7",
        "colab_type": "code",
        "colab": {}
      },
      "cell_type": "code",
      "source": [
        "train=pd.read_csv(\"train.csv\")\n",
        "# 생존값이 있는 연습용 데이터를 읽어온다.(판다스 데이터프레임 형태)\n",
        "test=pd.read_csv(\"test.csv\")\n",
        "# 생존값을 예측하고자하는 테스트 데이터를 읽어온다.(판다스 데이터프레임 형태)\n",
        "\n",
        "data = pd.concat([train, test], ignore_index = True)\n",
        "# 연습용 데이터와 테스트데이터를 합쳐 새로운 데이터 프레임 만들기"
      ],
      "execution_count": 0,
      "outputs": []
    },
    {
      "metadata": {
        "id": "VbElLM_jh5Dh",
        "colab_type": "text"
      },
      "cell_type": "markdown",
      "source": [
        "## 데이터 분석"
      ]
    },
    {
      "metadata": {
        "id": "g3ecIz4Aj38B",
        "colab_type": "text"
      },
      "cell_type": "markdown",
      "source": [
        "### 데이터 확인 "
      ]
    },
    {
      "metadata": {
        "id": "JxETwSOUh9Mb",
        "colab_type": "code",
        "outputId": "8fde68e7-3351-4bf7-8ae2-ba86591db89e",
        "colab": {
          "base_uri": "https://localhost:8080/",
          "height": 496
        }
      },
      "cell_type": "code",
      "source": [
        "train.head()\n",
        "# 위에서 5개의 행을 보여준다.\n",
        "\n",
        "\n",
        "# train.tail()\n",
        "# 아래에서 5개의 행을 보여준다."
      ],
      "execution_count": 0,
      "outputs": [
        {
          "output_type": "execute_result",
          "data": {
            "text/html": [
              "<div>\n",
              "<style scoped>\n",
              "    .dataframe tbody tr th:only-of-type {\n",
              "        vertical-align: middle;\n",
              "    }\n",
              "\n",
              "    .dataframe tbody tr th {\n",
              "        vertical-align: top;\n",
              "    }\n",
              "\n",
              "    .dataframe thead th {\n",
              "        text-align: right;\n",
              "    }\n",
              "</style>\n",
              "<table border=\"1\" class=\"dataframe\">\n",
              "  <thead>\n",
              "    <tr style=\"text-align: right;\">\n",
              "      <th></th>\n",
              "      <th>PassengerId</th>\n",
              "      <th>Survived</th>\n",
              "      <th>Pclass</th>\n",
              "      <th>Name</th>\n",
              "      <th>Sex</th>\n",
              "      <th>Age</th>\n",
              "      <th>SibSp</th>\n",
              "      <th>Parch</th>\n",
              "      <th>Ticket</th>\n",
              "      <th>Fare</th>\n",
              "      <th>Cabin</th>\n",
              "      <th>Embarked</th>\n",
              "    </tr>\n",
              "  </thead>\n",
              "  <tbody>\n",
              "    <tr>\n",
              "      <th>0</th>\n",
              "      <td>1</td>\n",
              "      <td>0</td>\n",
              "      <td>3</td>\n",
              "      <td>Braund, Mr. Owen Harris</td>\n",
              "      <td>male</td>\n",
              "      <td>22.0</td>\n",
              "      <td>1</td>\n",
              "      <td>0</td>\n",
              "      <td>A/5 21171</td>\n",
              "      <td>7.2500</td>\n",
              "      <td>NaN</td>\n",
              "      <td>S</td>\n",
              "    </tr>\n",
              "    <tr>\n",
              "      <th>1</th>\n",
              "      <td>2</td>\n",
              "      <td>1</td>\n",
              "      <td>1</td>\n",
              "      <td>Cumings, Mrs. John Bradley (Florence Briggs Th...</td>\n",
              "      <td>female</td>\n",
              "      <td>38.0</td>\n",
              "      <td>1</td>\n",
              "      <td>0</td>\n",
              "      <td>PC 17599</td>\n",
              "      <td>71.2833</td>\n",
              "      <td>C85</td>\n",
              "      <td>C</td>\n",
              "    </tr>\n",
              "    <tr>\n",
              "      <th>2</th>\n",
              "      <td>3</td>\n",
              "      <td>1</td>\n",
              "      <td>3</td>\n",
              "      <td>Heikkinen, Miss. Laina</td>\n",
              "      <td>female</td>\n",
              "      <td>26.0</td>\n",
              "      <td>0</td>\n",
              "      <td>0</td>\n",
              "      <td>STON/O2. 3101282</td>\n",
              "      <td>7.9250</td>\n",
              "      <td>NaN</td>\n",
              "      <td>S</td>\n",
              "    </tr>\n",
              "    <tr>\n",
              "      <th>3</th>\n",
              "      <td>4</td>\n",
              "      <td>1</td>\n",
              "      <td>1</td>\n",
              "      <td>Futrelle, Mrs. Jacques Heath (Lily May Peel)</td>\n",
              "      <td>female</td>\n",
              "      <td>35.0</td>\n",
              "      <td>1</td>\n",
              "      <td>0</td>\n",
              "      <td>113803</td>\n",
              "      <td>53.1000</td>\n",
              "      <td>C123</td>\n",
              "      <td>S</td>\n",
              "    </tr>\n",
              "    <tr>\n",
              "      <th>4</th>\n",
              "      <td>5</td>\n",
              "      <td>0</td>\n",
              "      <td>3</td>\n",
              "      <td>Allen, Mr. William Henry</td>\n",
              "      <td>male</td>\n",
              "      <td>35.0</td>\n",
              "      <td>0</td>\n",
              "      <td>0</td>\n",
              "      <td>373450</td>\n",
              "      <td>8.0500</td>\n",
              "      <td>NaN</td>\n",
              "      <td>S</td>\n",
              "    </tr>\n",
              "  </tbody>\n",
              "</table>\n",
              "</div>"
            ],
            "text/plain": [
              "   PassengerId  Survived  Pclass  \\\n",
              "0            1         0       3   \n",
              "1            2         1       1   \n",
              "2            3         1       3   \n",
              "3            4         1       1   \n",
              "4            5         0       3   \n",
              "\n",
              "                                                Name     Sex   Age  SibSp  \\\n",
              "0                            Braund, Mr. Owen Harris    male  22.0      1   \n",
              "1  Cumings, Mrs. John Bradley (Florence Briggs Th...  female  38.0      1   \n",
              "2                             Heikkinen, Miss. Laina  female  26.0      0   \n",
              "3       Futrelle, Mrs. Jacques Heath (Lily May Peel)  female  35.0      1   \n",
              "4                           Allen, Mr. William Henry    male  35.0      0   \n",
              "\n",
              "   Parch            Ticket     Fare Cabin Embarked  \n",
              "0      0         A/5 21171   7.2500   NaN        S  \n",
              "1      0          PC 17599  71.2833   C85        C  \n",
              "2      0  STON/O2. 3101282   7.9250   NaN        S  \n",
              "3      0            113803  53.1000  C123        S  \n",
              "4      0            373450   8.0500   NaN        S  "
            ]
          },
          "metadata": {
            "tags": []
          },
          "execution_count": 6
        }
      ]
    },
    {
      "metadata": {
        "id": "zAJ-7aAuiRDA",
        "colab_type": "text"
      },
      "cell_type": "markdown",
      "source": [
        "데이터 필드\n",
        "* survival - 생존유무, target 값. (0 = 사망, 1 = 생존)\n",
        "* pclass - 티켓 클래스. (1 = 1st, 2 = 2nd, 3 = 3rd)\n",
        "* sex - 성별\n",
        "* Age - 나이(세)\n",
        "* sibsp - 함께 탑승한 형제자매, 배우자 수 총합\n",
        "* parch - 함께 탑승한 부모, 자녀 수 총합\n",
        "* ticket - 티켓 넘버\n",
        "* fare - 탑승 요금\n",
        "* cabin - 객실 넘버\n",
        "* embarked - 탑승 항구"
      ]
    },
    {
      "metadata": {
        "id": "o15JFRg6iZ4F",
        "colab_type": "code",
        "outputId": "d5ac0fa7-534e-45ad-aa46-a586417628e7",
        "colab": {
          "base_uri": "https://localhost:8080/",
          "height": 317
        }
      },
      "cell_type": "code",
      "source": [
        "train.describe()\n",
        "# 문자열을 제외한 분포도(갯수, 평균값, 최대값, 최소값 등)를 보여줌.\n"
      ],
      "execution_count": 0,
      "outputs": [
        {
          "output_type": "execute_result",
          "data": {
            "text/html": [
              "<div>\n",
              "<style scoped>\n",
              "    .dataframe tbody tr th:only-of-type {\n",
              "        vertical-align: middle;\n",
              "    }\n",
              "\n",
              "    .dataframe tbody tr th {\n",
              "        vertical-align: top;\n",
              "    }\n",
              "\n",
              "    .dataframe thead th {\n",
              "        text-align: right;\n",
              "    }\n",
              "</style>\n",
              "<table border=\"1\" class=\"dataframe\">\n",
              "  <thead>\n",
              "    <tr style=\"text-align: right;\">\n",
              "      <th></th>\n",
              "      <th>PassengerId</th>\n",
              "      <th>Survived</th>\n",
              "      <th>Pclass</th>\n",
              "      <th>Age</th>\n",
              "      <th>SibSp</th>\n",
              "      <th>Parch</th>\n",
              "      <th>Fare</th>\n",
              "    </tr>\n",
              "  </thead>\n",
              "  <tbody>\n",
              "    <tr>\n",
              "      <th>count</th>\n",
              "      <td>891.000000</td>\n",
              "      <td>891.000000</td>\n",
              "      <td>891.000000</td>\n",
              "      <td>714.000000</td>\n",
              "      <td>891.000000</td>\n",
              "      <td>891.000000</td>\n",
              "      <td>891.000000</td>\n",
              "    </tr>\n",
              "    <tr>\n",
              "      <th>mean</th>\n",
              "      <td>446.000000</td>\n",
              "      <td>0.383838</td>\n",
              "      <td>2.308642</td>\n",
              "      <td>29.699118</td>\n",
              "      <td>0.523008</td>\n",
              "      <td>0.381594</td>\n",
              "      <td>32.204208</td>\n",
              "    </tr>\n",
              "    <tr>\n",
              "      <th>std</th>\n",
              "      <td>257.353842</td>\n",
              "      <td>0.486592</td>\n",
              "      <td>0.836071</td>\n",
              "      <td>14.526497</td>\n",
              "      <td>1.102743</td>\n",
              "      <td>0.806057</td>\n",
              "      <td>49.693429</td>\n",
              "    </tr>\n",
              "    <tr>\n",
              "      <th>min</th>\n",
              "      <td>1.000000</td>\n",
              "      <td>0.000000</td>\n",
              "      <td>1.000000</td>\n",
              "      <td>0.420000</td>\n",
              "      <td>0.000000</td>\n",
              "      <td>0.000000</td>\n",
              "      <td>0.000000</td>\n",
              "    </tr>\n",
              "    <tr>\n",
              "      <th>25%</th>\n",
              "      <td>223.500000</td>\n",
              "      <td>0.000000</td>\n",
              "      <td>2.000000</td>\n",
              "      <td>20.125000</td>\n",
              "      <td>0.000000</td>\n",
              "      <td>0.000000</td>\n",
              "      <td>7.910400</td>\n",
              "    </tr>\n",
              "    <tr>\n",
              "      <th>50%</th>\n",
              "      <td>446.000000</td>\n",
              "      <td>0.000000</td>\n",
              "      <td>3.000000</td>\n",
              "      <td>28.000000</td>\n",
              "      <td>0.000000</td>\n",
              "      <td>0.000000</td>\n",
              "      <td>14.454200</td>\n",
              "    </tr>\n",
              "    <tr>\n",
              "      <th>75%</th>\n",
              "      <td>668.500000</td>\n",
              "      <td>1.000000</td>\n",
              "      <td>3.000000</td>\n",
              "      <td>38.000000</td>\n",
              "      <td>1.000000</td>\n",
              "      <td>0.000000</td>\n",
              "      <td>31.000000</td>\n",
              "    </tr>\n",
              "    <tr>\n",
              "      <th>max</th>\n",
              "      <td>891.000000</td>\n",
              "      <td>1.000000</td>\n",
              "      <td>3.000000</td>\n",
              "      <td>80.000000</td>\n",
              "      <td>8.000000</td>\n",
              "      <td>6.000000</td>\n",
              "      <td>512.329200</td>\n",
              "    </tr>\n",
              "  </tbody>\n",
              "</table>\n",
              "</div>"
            ],
            "text/plain": [
              "       PassengerId    Survived      Pclass         Age       SibSp  \\\n",
              "count   891.000000  891.000000  891.000000  714.000000  891.000000   \n",
              "mean    446.000000    0.383838    2.308642   29.699118    0.523008   \n",
              "std     257.353842    0.486592    0.836071   14.526497    1.102743   \n",
              "min       1.000000    0.000000    1.000000    0.420000    0.000000   \n",
              "25%     223.500000    0.000000    2.000000   20.125000    0.000000   \n",
              "50%     446.000000    0.000000    3.000000   28.000000    0.000000   \n",
              "75%     668.500000    1.000000    3.000000   38.000000    1.000000   \n",
              "max     891.000000    1.000000    3.000000   80.000000    8.000000   \n",
              "\n",
              "            Parch        Fare  \n",
              "count  891.000000  891.000000  \n",
              "mean     0.381594   32.204208  \n",
              "std      0.806057   49.693429  \n",
              "min      0.000000    0.000000  \n",
              "25%      0.000000    7.910400  \n",
              "50%      0.000000   14.454200  \n",
              "75%      0.000000   31.000000  \n",
              "max      6.000000  512.329200  "
            ]
          },
          "metadata": {
            "tags": []
          },
          "execution_count": 7
        }
      ]
    },
    {
      "metadata": {
        "id": "w2qwIDetjS0K",
        "colab_type": "text"
      },
      "cell_type": "markdown",
      "source": [
        "** 추론할 수 있는 결론:  총 891명의 사람이 있지만 Age피쳐의 데이터중 빈 값이 있다는 것을 알 수 있음. **"
      ]
    },
    {
      "metadata": {
        "id": "Hlw-zpRNj9qr",
        "colab_type": "text"
      },
      "cell_type": "markdown",
      "source": [
        "### NULL값 검색"
      ]
    },
    {
      "metadata": {
        "id": "MvHJ6v2Hj_8k",
        "colab_type": "code",
        "outputId": "98e738a8-183d-4d5f-e96a-be686db841ca",
        "colab": {
          "base_uri": "https://localhost:8080/",
          "height": 622
        }
      },
      "cell_type": "code",
      "source": [
        "msno.bar(df=train.iloc[:, :], figsize=(8, 8))\n",
        "\n",
        "# 데이터의 행과 열을 모두 가져온후에 바 그래프 형태로 시각화 하여 보여줌.\n"
      ],
      "execution_count": 0,
      "outputs": [
        {
          "output_type": "execute_result",
          "data": {
            "text/plain": [
              "<matplotlib.axes._subplots.AxesSubplot at 0x7f3afe8c6550>"
            ]
          },
          "metadata": {
            "tags": []
          },
          "execution_count": 8
        },
        {
          "output_type": "display_data",
          "data": {
            "image/png": "[encoded data removed]",
            "text/plain": [
              "<Figure size 576x576 with 3 Axes>"
            ]
          },
          "metadata": {
            "tags": []
          }
        }
      ]
    },
    {
      "metadata": {
        "id": "3pC1NH4slQPX",
        "colab_type": "text"
      },
      "cell_type": "markdown",
      "source": [
        "** 추론 할 수있는 결론 : Age , Cabin(데이터가 많이 부족) ,Embarked피쳐의 값이 비었다는 것을 알 수 있다. **"
      ]
    },
    {
      "metadata": {
        "id": "oWGApg8QlYuE",
        "colab_type": "text"
      },
      "cell_type": "markdown",
      "source": [
        "### 예측 하고자하는 (Label 이라고도함) Survived의 데이터를 확인"
      ]
    },
    {
      "metadata": {
        "id": "QyWm_fptkJV4",
        "colab_type": "code",
        "outputId": "9b1af4e0-7d22-4f0d-9c17-bf67dba1329f",
        "colab": {
          "base_uri": "https://localhost:8080/",
          "height": 532
        }
      },
      "cell_type": "code",
      "source": [
        "f, ax = plt.subplots(1, 2, figsize=(18, 8))\n",
        "# 1행 2열의 형태로 파레트를 만든다.\n",
        "\n",
        "train['Survived'].value_counts().plot.pie(explode=[0, 0.1], autopct='%1.1f%%', ax=ax[0], shadow=True)\n",
        "# Pie(원형 형태로 시각화)하되 explode(0과 1값 사이의 간격을 떨어뜨림) autopct(숫자형태로 지정.) ax =(이 그래프를 파레트의 어디에 위치시킬건지) shadow(그림자)\n",
        "\n",
        "ax[0].set_title('Pie plot - Survived')\n",
        "# 첫 번째 그래프의 제목 지정\n",
        "\n",
        "ax[0].set_ylabel('')\n",
        "# 첫 번째 그래프의 y축 라벨 보이지 않게 함\n",
        "\n",
        "sns.countplot('Survived', data=train, ax=ax[1])\n",
        "# 0과 1값의 갯수를 센 그래프를 시각화 \n",
        "\n",
        "ax[1].set_title('Count plot - Survived')\n",
        "# 두 번째 그래프의 제목 지정\n",
        "\n",
        "plt.show()\n",
        "# 그래프 출력"
      ],
      "execution_count": 0,
      "outputs": [
        {
          "output_type": "display_data",
          "data": {
            "image/png": "[encoded data removed]",
            "text/plain": [
              "<Figure size 1296x576 with 2 Axes>"
            ]
          },
          "metadata": {
            "tags": []
          }
        }
      ]
    },
    {
      "metadata": {
        "id": "pW-_QeMGm1BF",
        "colab_type": "text"
      },
      "cell_type": "markdown",
      "source": [
        "** 추론 할 수 있는 결론: 죽지 않은 사람 38.4%와 죽은 사람 61.6%로 죽은 사람이 더 많다는것을 알 수 있다.**"
      ]
    },
    {
      "metadata": {
        "id": "iUKD20gWneZI",
        "colab_type": "text"
      },
      "cell_type": "markdown",
      "source": [
        "### Pclass 분석"
      ]
    },
    {
      "metadata": {
        "id": "7mCR4IganeJq",
        "colab_type": "code",
        "outputId": "7bd8e4d4-80ea-434e-8bb7-66dbe37fedb2",
        "colab": {
          "base_uri": "https://localhost:8080/",
          "height": 224
        }
      },
      "cell_type": "code",
      "source": [
        "pd.crosstab(train['Pclass'], train['Survived'], margins=True)\n",
        "# Pclass와 Survived의 데이터를 합쳐 데이터프레임형태로 출력"
      ],
      "execution_count": 0,
      "outputs": [
        {
          "output_type": "execute_result",
          "data": {
            "text/html": [
              "<div>\n",
              "<style scoped>\n",
              "    .dataframe tbody tr th:only-of-type {\n",
              "        vertical-align: middle;\n",
              "    }\n",
              "\n",
              "    .dataframe tbody tr th {\n",
              "        vertical-align: top;\n",
              "    }\n",
              "\n",
              "    .dataframe thead th {\n",
              "        text-align: right;\n",
              "    }\n",
              "</style>\n",
              "<table border=\"1\" class=\"dataframe\">\n",
              "  <thead>\n",
              "    <tr style=\"text-align: right;\">\n",
              "      <th>Survived</th>\n",
              "      <th>0</th>\n",
              "      <th>1</th>\n",
              "      <th>All</th>\n",
              "    </tr>\n",
              "    <tr>\n",
              "      <th>Pclass</th>\n",
              "      <th></th>\n",
              "      <th></th>\n",
              "      <th></th>\n",
              "    </tr>\n",
              "  </thead>\n",
              "  <tbody>\n",
              "    <tr>\n",
              "      <th>1</th>\n",
              "      <td>80</td>\n",
              "      <td>136</td>\n",
              "      <td>216</td>\n",
              "    </tr>\n",
              "    <tr>\n",
              "      <th>2</th>\n",
              "      <td>97</td>\n",
              "      <td>87</td>\n",
              "      <td>184</td>\n",
              "    </tr>\n",
              "    <tr>\n",
              "      <th>3</th>\n",
              "      <td>372</td>\n",
              "      <td>119</td>\n",
              "      <td>491</td>\n",
              "    </tr>\n",
              "    <tr>\n",
              "      <th>All</th>\n",
              "      <td>549</td>\n",
              "      <td>342</td>\n",
              "      <td>891</td>\n",
              "    </tr>\n",
              "  </tbody>\n",
              "</table>\n",
              "</div>"
            ],
            "text/plain": [
              "Survived    0    1  All\n",
              "Pclass                 \n",
              "1          80  136  216\n",
              "2          97   87  184\n",
              "3         372  119  491\n",
              "All       549  342  891"
            ]
          },
          "metadata": {
            "tags": []
          },
          "execution_count": 10
        }
      ]
    },
    {
      "metadata": {
        "id": "btBMfndEnwJU",
        "colab_type": "code",
        "outputId": "27369d51-31e9-4464-aa34-2a2d65342f32",
        "colab": {
          "base_uri": "https://localhost:8080/",
          "height": 585
        }
      },
      "cell_type": "code",
      "source": [
        "train[['Pclass', 'Survived']].groupby(['Pclass'], as_index=True).mean().sort_values(by='Survived', ascending=False).plot.bar()\n",
        "# Pclass, Survived를 Pclass 기준으로 묶어 평균값(mean)을 만들고 Survived를 기준으로 내림차순 한 후 바 형태의 그래프로 보여준다."
      ],
      "execution_count": 0,
      "outputs": [
        {
          "output_type": "execute_result",
          "data": {
            "text/plain": [
              "<matplotlib.axes._subplots.AxesSubplot at 0x7f3afb47bb38>"
            ]
          },
          "metadata": {
            "tags": []
          },
          "execution_count": 11
        },
        {
          "output_type": "display_data",
          "data": {
            "image/png": "[encoded data removed]",
            "text/plain": [
              "<Figure size 1152x648 with 1 Axes>"
            ]
          },
          "metadata": {
            "tags": []
          }
        }
      ]
    },
    {
      "metadata": {
        "id": "zBhtFXiMnsLq",
        "colab_type": "text"
      },
      "cell_type": "markdown",
      "source": [
        "** 추론 할 수 있는 결론 : 1등석 쪽으로 갈 수록 생존 확률이 높다는것을 알 수 있다. ** "
      ]
    },
    {
      "metadata": {
        "id": "PgEwOM9eofJQ",
        "colab_type": "code",
        "outputId": "48f6eaa3-d013-4860-95dd-44b686784c3d",
        "colab": {
          "base_uri": "https://localhost:8080/",
          "height": 532
        }
      },
      "cell_type": "code",
      "source": [
        "f, ax = plt.subplots(1, 2, figsize=(18, 8))\n",
        "# 파레트 설정\n",
        "\n",
        "train['Pclass'].value_counts().plot.bar( ax=ax[0])\n",
        "# Pclass의 값들을 바 형태로 설정\n",
        "\n",
        "ax[0].set_title('Number of Passengers By Pclass')\n",
        "# 첫 번째 그래프 제목 설정\n",
        "\n",
        "ax[0].set_ylabel('count')\n",
        "# 첫 번째 그래프 y축 라벨 설정\n",
        "\n",
        "sns.countplot('Pclass', hue='Survived', data=train, ax=ax[1])\n",
        "# 두 번째 \n",
        "\n",
        "ax[1].set_title('Pclass: Survived vs Dead')\n",
        "# 두 번째 그래프 제목 설정\n",
        "\n",
        "plt.show()\n",
        "# 그래프 출력\n"
      ],
      "execution_count": 0,
      "outputs": [
        {
          "output_type": "display_data",
          "data": {
            "image/png": "[encoded data removed]",
            "text/plain": [
              "<Figure size 1296x576 with 2 Axes>"
            ]
          },
          "metadata": {
            "tags": []
          }
        }
      ]
    },
    {
      "metadata": {
        "id": "J1LMm6Luy9ZU",
        "colab_type": "code",
        "outputId": "a35d84b4-fd6c-4bb4-d583-9c03854b22b6",
        "colab": {
          "base_uri": "https://localhost:8080/",
          "height": 162
        }
      },
      "cell_type": "code",
      "source": [
        "train[['Pclass', 'Survived']].groupby(['Pclass'], as_index=False).mean().sort_values(by='Survived', ascending=False)\n",
        "# 두 피쳐를 를 Pclass피쳐로 묶어 평균값을 내림차순 형태로 보여준다."
      ],
      "execution_count": 0,
      "outputs": [
        {
          "output_type": "execute_result",
          "data": {
            "text/html": [
              "<div>\n",
              "<style scoped>\n",
              "    .dataframe tbody tr th:only-of-type {\n",
              "        vertical-align: middle;\n",
              "    }\n",
              "\n",
              "    .dataframe tbody tr th {\n",
              "        vertical-align: top;\n",
              "    }\n",
              "\n",
              "    .dataframe thead th {\n",
              "        text-align: right;\n",
              "    }\n",
              "</style>\n",
              "<table border=\"1\" class=\"dataframe\">\n",
              "  <thead>\n",
              "    <tr style=\"text-align: right;\">\n",
              "      <th></th>\n",
              "      <th>Pclass</th>\n",
              "      <th>Survived</th>\n",
              "    </tr>\n",
              "  </thead>\n",
              "  <tbody>\n",
              "    <tr>\n",
              "      <th>0</th>\n",
              "      <td>1</td>\n",
              "      <td>0.629630</td>\n",
              "    </tr>\n",
              "    <tr>\n",
              "      <th>1</th>\n",
              "      <td>2</td>\n",
              "      <td>0.472826</td>\n",
              "    </tr>\n",
              "    <tr>\n",
              "      <th>2</th>\n",
              "      <td>3</td>\n",
              "      <td>0.242363</td>\n",
              "    </tr>\n",
              "  </tbody>\n",
              "</table>\n",
              "</div>"
            ],
            "text/plain": [
              "   Pclass  Survived\n",
              "0       1  0.629630\n",
              "1       2  0.472826\n",
              "2       3  0.242363"
            ]
          },
          "metadata": {
            "tags": []
          },
          "execution_count": 13
        }
      ]
    },
    {
      "metadata": {
        "id": "gAG5QkmEq5kv",
        "colab_type": "text"
      },
      "cell_type": "markdown",
      "source": [
        "** 추론 할 수 있는 결론 : Pclass는 생존확률에 많은 영향을 끼친다. **"
      ]
    },
    {
      "metadata": {
        "id": "soFDhhnrueX6",
        "colab_type": "text"
      },
      "cell_type": "markdown",
      "source": [
        "### Sex 분석"
      ]
    },
    {
      "metadata": {
        "id": "Q30Erc1-um_K",
        "colab_type": "code",
        "outputId": "026465b5-c289-43f5-baff-8ac127750301",
        "colab": {
          "base_uri": "https://localhost:8080/",
          "height": 552
        }
      },
      "cell_type": "code",
      "source": [
        "f, ax = plt.subplots(1, 2, figsize=(18, 8))\n",
        "# 파레트 설정\n",
        "\n",
        "train[['Sex', 'Survived']].groupby(['Sex'], as_index=True).mean().plot.bar(ax=ax[0])\n",
        "# Sex와 Survived를 Sex로 묶어 평균값을 취한후 보여줌.\n",
        "\n",
        "ax[0].set_title('Survived vs Sex')\n",
        "# 첫 번째 그래프 제목 설정\n",
        "\n",
        "sns.countplot('Sex', hue='Survived', data=train, ax=ax[1])\n",
        "# Sex를 hue 값을 Survived를 준 후 그래프형태로 보여줌.\n",
        "\n",
        "ax[1].set_title('Sex: Survived vs Dead')\n",
        "# 두 번째 그래프의 제목 설정\n",
        "\n",
        "plt.show()\n",
        "# 그래프 출력"
      ],
      "execution_count": 0,
      "outputs": [
        {
          "output_type": "display_data",
          "data": {
            "image/png": "[encoded data removed]",
            "text/plain": [
              "<Figure size 1296x576 with 2 Axes>"
            ]
          },
          "metadata": {
            "tags": []
          }
        }
      ]
    },
    {
      "metadata": {
        "id": "yxEC523KyApt",
        "colab_type": "code",
        "outputId": "a89af798-3c43-41e2-b813-77eab119f546",
        "colab": {
          "base_uri": "https://localhost:8080/",
          "height": 131
        }
      },
      "cell_type": "code",
      "source": [
        "train[['Sex', 'Survived']].groupby(['Sex'], as_index=False).mean().sort_values(by='Survived', ascending=False)\n",
        "# 두 피쳐를 를 Sex피쳐로 묶어 평균값을 내림차순 형태로 보여준다."
      ],
      "execution_count": 0,
      "outputs": [
        {
          "output_type": "execute_result",
          "data": {
            "text/html": [
              "<div>\n",
              "<style scoped>\n",
              "    .dataframe tbody tr th:only-of-type {\n",
              "        vertical-align: middle;\n",
              "    }\n",
              "\n",
              "    .dataframe tbody tr th {\n",
              "        vertical-align: top;\n",
              "    }\n",
              "\n",
              "    .dataframe thead th {\n",
              "        text-align: right;\n",
              "    }\n",
              "</style>\n",
              "<table border=\"1\" class=\"dataframe\">\n",
              "  <thead>\n",
              "    <tr style=\"text-align: right;\">\n",
              "      <th></th>\n",
              "      <th>Sex</th>\n",
              "      <th>Survived</th>\n",
              "    </tr>\n",
              "  </thead>\n",
              "  <tbody>\n",
              "    <tr>\n",
              "      <th>0</th>\n",
              "      <td>female</td>\n",
              "      <td>0.742038</td>\n",
              "    </tr>\n",
              "    <tr>\n",
              "      <th>1</th>\n",
              "      <td>male</td>\n",
              "      <td>0.188908</td>\n",
              "    </tr>\n",
              "  </tbody>\n",
              "</table>\n",
              "</div>"
            ],
            "text/plain": [
              "      Sex  Survived\n",
              "0  female  0.742038\n",
              "1    male  0.188908"
            ]
          },
          "metadata": {
            "tags": []
          },
          "execution_count": 15
        }
      ]
    },
    {
      "metadata": {
        "id": "2YDrrW6LyGVG",
        "colab_type": "code",
        "outputId": "f2f1eec2-ea54-4331-fb1b-34209bbcb0f2",
        "colab": {
          "base_uri": "https://localhost:8080/",
          "height": 193
        }
      },
      "cell_type": "code",
      "source": [
        "pd.crosstab(train['Sex'], train['Survived'], margins=True)\n",
        "# 두 피쳐를 데이터 프레임 형태로 보여줌."
      ],
      "execution_count": 0,
      "outputs": [
        {
          "output_type": "execute_result",
          "data": {
            "text/html": [
              "<div>\n",
              "<style scoped>\n",
              "    .dataframe tbody tr th:only-of-type {\n",
              "        vertical-align: middle;\n",
              "    }\n",
              "\n",
              "    .dataframe tbody tr th {\n",
              "        vertical-align: top;\n",
              "    }\n",
              "\n",
              "    .dataframe thead th {\n",
              "        text-align: right;\n",
              "    }\n",
              "</style>\n",
              "<table border=\"1\" class=\"dataframe\">\n",
              "  <thead>\n",
              "    <tr style=\"text-align: right;\">\n",
              "      <th>Survived</th>\n",
              "      <th>0</th>\n",
              "      <th>1</th>\n",
              "      <th>All</th>\n",
              "    </tr>\n",
              "    <tr>\n",
              "      <th>Sex</th>\n",
              "      <th></th>\n",
              "      <th></th>\n",
              "      <th></th>\n",
              "    </tr>\n",
              "  </thead>\n",
              "  <tbody>\n",
              "    <tr>\n",
              "      <th>female</th>\n",
              "      <td>81</td>\n",
              "      <td>233</td>\n",
              "      <td>314</td>\n",
              "    </tr>\n",
              "    <tr>\n",
              "      <th>male</th>\n",
              "      <td>468</td>\n",
              "      <td>109</td>\n",
              "      <td>577</td>\n",
              "    </tr>\n",
              "    <tr>\n",
              "      <th>All</th>\n",
              "      <td>549</td>\n",
              "      <td>342</td>\n",
              "      <td>891</td>\n",
              "    </tr>\n",
              "  </tbody>\n",
              "</table>\n",
              "</div>"
            ],
            "text/plain": [
              "Survived    0    1  All\n",
              "Sex                    \n",
              "female     81  233  314\n",
              "male      468  109  577\n",
              "All       549  342  891"
            ]
          },
          "metadata": {
            "tags": []
          },
          "execution_count": 16
        }
      ]
    },
    {
      "metadata": {
        "id": "KNNYN9U0yIT4",
        "colab_type": "text"
      },
      "cell_type": "markdown",
      "source": [
        "** 추론 할 수 있는 결론 : 여성 일 수록 생존 확률이 높다는것을 알 수 있다. ** "
      ]
    },
    {
      "metadata": {
        "id": "z0v0tWf4ynYi",
        "colab_type": "text"
      },
      "cell_type": "markdown",
      "source": [
        "### Pclass + Sex 의 생존 분석\n"
      ]
    },
    {
      "metadata": {
        "id": "Lzr2u6TD0yQa",
        "colab_type": "code",
        "outputId": "a5b82762-1af9-4a22-8415-af1d90bcf8fa",
        "colab": {
          "base_uri": "https://localhost:8080/",
          "height": 551
        }
      },
      "cell_type": "code",
      "source": [
        "sns.factorplot(x='Sex', y='Survived', col='Pclass',data=train, size=7)\n",
        "# x축과 y축을 설정한후에 Pclass를 기준으로 그래프를 그려준다."
      ],
      "execution_count": 0,
      "outputs": [
        {
          "output_type": "execute_result",
          "data": {
            "text/plain": [
              "<seaborn.axisgrid.FacetGrid at 0x7f3afdd5af60>"
            ]
          },
          "metadata": {
            "tags": []
          },
          "execution_count": 17
        },
        {
          "output_type": "display_data",
          "data": {
            "image/png": "[encoded data removed]",
            "text/plain": [
              "<Figure size 1512x504 with 3 Axes>"
            ]
          },
          "metadata": {
            "tags": []
          }
        }
      ]
    },
    {
      "metadata": {
        "id": "nPP9id-z06zA",
        "colab_type": "text"
      },
      "cell_type": "markdown",
      "source": [
        "** 추론 할 수 있는 결론 : 모든 클래스에서 여성이 살 확률이 남자 보다 높다. 또한 남자, 여자 상관없이 클래스가 높을 수록 살 확률이 높다. **"
      ]
    },
    {
      "metadata": {
        "id": "KU6OIPMa6SJF",
        "colab_type": "text"
      },
      "cell_type": "markdown",
      "source": [
        "### Age 분석"
      ]
    },
    {
      "metadata": {
        "id": "QXRNYb-j6VtZ",
        "colab_type": "code",
        "outputId": "45d22876-eecb-43f2-d2c2-c4940540b2cf",
        "colab": {
          "base_uri": "https://localhost:8080/",
          "height": 91
        }
      },
      "cell_type": "code",
      "source": [
        "print('제일 나이 많은 승객 : {:.1f} Years'.format(train['Age'].max()))\n",
        "print('제일 어린 승객 : {:.1f} Years'.format(train['Age'].min()))\n",
        "print('승객 평균 나이 : {:.1f} Years'.format(train['Age'].mean()))"
      ],
      "execution_count": 0,
      "outputs": [
        {
          "output_type": "stream",
          "text": [
            "제일 나이 많은 승객 : 80.0 Years\n",
            "제일 어린 승객 : 0.4 Years\n",
            "승객 평균 나이 : 29.7 Years\n"
          ],
          "name": "stdout"
        }
      ]
    },
    {
      "metadata": {
        "id": "peQAl6Sn6p9a",
        "colab_type": "code",
        "outputId": "f123b4b8-95d8-42c7-8d67-ed05a2f7bfeb",
        "colab": {
          "base_uri": "https://localhost:8080/",
          "height": 340
        }
      },
      "cell_type": "code",
      "source": [
        "f, ax = plt.subplots(1, 1, figsize=(9, 5))\n",
        "# 파레트 설정\n",
        "\n",
        "sns.kdeplot(train[train['Survived'] == 1]['Age'], ax=ax)\n",
        "# 산 사람의 그래프를 그려줌\n",
        "\n",
        "sns.kdeplot(train[train['Survived'] == 0]['Age'], ax=ax)\n",
        "# 죽은 사람의 그래프를 그려줌\n",
        "\n",
        "plt.legend(['Survived = 1', 'Survived = 0'])\n",
        "\n",
        "# 범주 보여줌\n",
        "\n",
        "plt.show()\n",
        "\n",
        "# 그래프 보여주기"
      ],
      "execution_count": 0,
      "outputs": [
        {
          "output_type": "display_data",
          "data": {
            "image/png": "[encoded data removed]",
            "text/plain": [
              "<Figure size 648x360 with 1 Axes>"
            ]
          },
          "metadata": {
            "tags": []
          }
        }
      ]
    },
    {
      "metadata": {
        "id": "OlZoOTG-72h8",
        "colab_type": "text"
      },
      "cell_type": "markdown",
      "source": [
        "** 추론 할 수 있는 결론 : 나이가 적을 수록 생존 확률이 높다는것을 알 수 있다. **"
      ]
    },
    {
      "metadata": {
        "id": "fnlhygJp797h",
        "colab_type": "code",
        "outputId": "69739680-2d8e-4b53-d974-4025f24d7ae0",
        "colab": {
          "base_uri": "https://localhost:8080/",
          "height": 441
        }
      },
      "cell_type": "code",
      "source": [
        "plt.figure(figsize=(8, 6))\n",
        "# 파레트 설정\n",
        "\n",
        "train['Age'][train['Pclass'] == 1].plot(kind='kde')\n",
        "# 1등석의 나이를 그림\n",
        "\n",
        "train['Age'][train['Pclass'] == 2].plot(kind='kde')\n",
        "# 2등석의 나이를 그림\n",
        "\n",
        "train['Age'][train['Pclass'] == 3].plot(kind='kde')\n",
        "# 3등석의 나이를 그림\n",
        "\n",
        "plt.xlabel('Age')\n",
        "# x범주의 제목 설정\n",
        "\n",
        "plt.title('Age Plass Distribution')\n",
        "# 그래프의 제목 설정\n",
        "\n",
        "plt.legend(['1 Class', '2 Class', '3 Class'])\n",
        "# 범주 이름 설정"
      ],
      "execution_count": 0,
      "outputs": [
        {
          "output_type": "execute_result",
          "data": {
            "text/plain": [
              "<matplotlib.legend.Legend at 0x7f3afb13ba58>"
            ]
          },
          "metadata": {
            "tags": []
          },
          "execution_count": 20
        },
        {
          "output_type": "display_data",
          "data": {
            "image/png": "[encoded data removed]",
            "text/plain": [
              "<Figure size 576x432 with 1 Axes>"
            ]
          },
          "metadata": {
            "tags": []
          }
        }
      ]
    },
    {
      "metadata": {
        "id": "v0kl_ZRl9Xfw",
        "colab_type": "text"
      },
      "cell_type": "markdown",
      "source": [
        "** 추론 할 수 있는 결론 : 나이가 많을 수록1등석이 많다는것을 알 수 있다. **"
      ]
    },
    {
      "metadata": {
        "id": "1U8XN1JI9ixv",
        "colab_type": "text"
      },
      "cell_type": "markdown",
      "source": [
        "### Pclass + Sex + Age  분석"
      ]
    },
    {
      "metadata": {
        "id": "fJQwnJqz-DbE",
        "colab_type": "code",
        "outputId": "9fe86544-a771-4565-e729-9cd020af074f",
        "colab": {
          "base_uri": "https://localhost:8080/",
          "height": 532
        }
      },
      "cell_type": "code",
      "source": [
        "f,ax=plt.subplots(1,2,figsize=(18,8))\n",
        "# 파레트 설정 1행 2열\n",
        "\n",
        "sns.violinplot(\"Pclass\",\"Age\", hue=\"Survived\", data=train, scale='count', split=True,ax=ax[0])\n",
        "# 3개의 피쳐의 개수들을 Survived값으로 보여줌.\n",
        "\n",
        "ax[0].set_title('Pclass and Age vs Survived')\n",
        "# 첫번째 그래프 제목 설정\n",
        "\n",
        "ax[0].set_yticks(range(0,110,10))\n",
        "# y축의 범위를 설정 0부터 110 까지 10단위로.\n",
        "\n",
        "sns.violinplot(\"Sex\",\"Age\", hue=\"Survived\", data=train, scale='count', split=True,ax=ax[1])\n",
        "# 3개의 피쳐의 갯수들을 Survived값으로 보여줌.\n",
        "\n",
        "ax[1].set_title('Sex and Age vs Survived')\n",
        "# 두 번째 그래프 제목 설정\n",
        "\n",
        "ax[1].set_yticks(range(0,110,10))\n",
        "# y축의 범위를 0부터 110까지 10단위로.\n",
        "\n",
        "plt.show()\n",
        "# 그래프 출력"
      ],
      "execution_count": 0,
      "outputs": [
        {
          "output_type": "display_data",
          "data": {
            "image/png": "[encoded data removed]",
            "text/plain": [
              "<Figure size 1296x576 with 2 Axes>"
            ]
          },
          "metadata": {
            "tags": []
          }
        }
      ]
    },
    {
      "metadata": {
        "id": "Wh6TNpm8_CGj",
        "colab_type": "text"
      },
      "cell_type": "markdown",
      "source": [
        "** 추론 할 수있는 결론 : 왼쪽 그래프에서는 나이가 어릴 수록 살 확률이 높았고 오른쪽 그래프에서는 여성이 생존 확률이 높다는것을 알 수 있다. **"
      ]
    },
    {
      "metadata": {
        "id": "I4TEj2E7A8Jp",
        "colab_type": "text"
      },
      "cell_type": "markdown",
      "source": [
        "### Name 분석\n",
        "\n",
        "\n"
      ]
    },
    {
      "metadata": {
        "id": "d9fBY5m9BBIK",
        "colab_type": "code",
        "outputId": "97094772-c283-4c2f-96c1-e3c3610f7d0f",
        "colab": {
          "base_uri": "https://localhost:8080/",
          "height": 415
        }
      },
      "cell_type": "code",
      "source": [
        "train['Name'].head(20)"
      ],
      "execution_count": 0,
      "outputs": [
        {
          "output_type": "execute_result",
          "data": {
            "text/plain": [
              "0                               Braund, Mr. Owen Harris\n",
              "1     Cumings, Mrs. John Bradley (Florence Briggs Th...\n",
              "2                                Heikkinen, Miss. Laina\n",
              "3          Futrelle, Mrs. Jacques Heath (Lily May Peel)\n",
              "4                              Allen, Mr. William Henry\n",
              "5                                      Moran, Mr. James\n",
              "6                               McCarthy, Mr. Timothy J\n",
              "7                        Palsson, Master. Gosta Leonard\n",
              "8     Johnson, Mrs. Oscar W (Elisabeth Vilhelmina Berg)\n",
              "9                   Nasser, Mrs. Nicholas (Adele Achem)\n",
              "10                      Sandstrom, Miss. Marguerite Rut\n",
              "11                             Bonnell, Miss. Elizabeth\n",
              "12                       Saundercock, Mr. William Henry\n",
              "13                          Andersson, Mr. Anders Johan\n",
              "14                 Vestrom, Miss. Hulda Amanda Adolfina\n",
              "15                     Hewlett, Mrs. (Mary D Kingcome) \n",
              "16                                 Rice, Master. Eugene\n",
              "17                         Williams, Mr. Charles Eugene\n",
              "18    Vander Planke, Mrs. Julius (Emelia Maria Vande...\n",
              "19                              Masselmani, Mrs. Fatima\n",
              "Name: Name, dtype: object"
            ]
          },
          "metadata": {
            "tags": []
          },
          "execution_count": 22
        }
      ]
    },
    {
      "metadata": {
        "id": "LjwtT1fbBWI5",
        "colab_type": "text"
      },
      "cell_type": "markdown",
      "source": [
        "** 추론 할 수 있는 결론 :  정규화를 통해 다른 피쳐를 만들어 Miss , Mr 등 타이틀을 직접 설정해줘야함 **"
      ]
    },
    {
      "metadata": {
        "id": "MpcCCzbl_9LP",
        "colab_type": "text"
      },
      "cell_type": "markdown",
      "source": [
        "### Embarked 분석"
      ]
    },
    {
      "metadata": {
        "id": "xEYzscd0NJxt",
        "colab_type": "code",
        "outputId": "5bcc6c2a-f6a2-4322-a2d2-3752e35ac3b0",
        "colab": {
          "base_uri": "https://localhost:8080/",
          "height": 478
        }
      },
      "cell_type": "code",
      "source": [
        "f, ax = plt.subplots(1, 1, figsize=(7, 7))\n",
        "train[['Embarked', 'Survived']].groupby(['Embarked'], as_index=True).mean().sort_values(by='Survived', ascending=False).plot.bar(ax=ax)"
      ],
      "execution_count": 0,
      "outputs": [
        {
          "output_type": "execute_result",
          "data": {
            "text/plain": [
              "<matplotlib.axes._subplots.AxesSubplot at 0x7f3afb180e80>"
            ]
          },
          "metadata": {
            "tags": []
          },
          "execution_count": 23
        },
        {
          "output_type": "display_data",
          "data": {
            "image/png": "[encoded data removed]",
            "text/plain": [
              "<Figure size 504x504 with 1 Axes>"
            ]
          },
          "metadata": {
            "tags": []
          }
        }
      ]
    },
    {
      "metadata": {
        "id": "I3a_Gg9LNMnn",
        "colab_type": "text"
      },
      "cell_type": "markdown",
      "source": [
        "** 추론 할 수 있는 결론 : 생존률은 C가 높다 **"
      ]
    },
    {
      "metadata": {
        "id": "UF6f3s6qNrP0",
        "colab_type": "code",
        "outputId": "196b8664-18f9-4280-b4a1-016198db3295",
        "colab": {
          "base_uri": "https://localhost:8080/",
          "height": 589
        }
      },
      "cell_type": "code",
      "source": [
        "sns.countplot('Embarked', data=train)\n"
      ],
      "execution_count": 0,
      "outputs": [
        {
          "output_type": "execute_result",
          "data": {
            "text/plain": [
              "<matplotlib.axes._subplots.AxesSubplot at 0x7f3afaf40be0>"
            ]
          },
          "metadata": {
            "tags": []
          },
          "execution_count": 24
        },
        {
          "output_type": "display_data",
          "data": {
            "image/png": "[encoded data removed]",
            "text/plain": [
              "<Figure size 1152x648 with 1 Axes>"
            ]
          },
          "metadata": {
            "tags": []
          }
        }
      ]
    },
    {
      "metadata": {
        "id": "IkByeSkGNxwh",
        "colab_type": "text"
      },
      "cell_type": "markdown",
      "source": [
        "** 추론 할 수 있는 결론 : S에서 많은 사람이 탔다 **\n",
        "\n",
        "\n",
        "\n",
        "\n"
      ]
    },
    {
      "metadata": {
        "id": "eJs21qsROHW1",
        "colab_type": "text"
      },
      "cell_type": "markdown",
      "source": [
        "### SibSp 분석"
      ]
    },
    {
      "metadata": {
        "id": "DhD3aj6qOJ73",
        "colab_type": "code",
        "outputId": "427871bf-cf01-4888-b993-b64b603c584d",
        "colab": {
          "base_uri": "https://localhost:8080/",
          "height": 589
        }
      },
      "cell_type": "code",
      "source": [
        "sns.barplot(x=\"SibSp\", y=\"Survived\", data=train)"
      ],
      "execution_count": 0,
      "outputs": [
        {
          "output_type": "execute_result",
          "data": {
            "text/plain": [
              "<matplotlib.axes._subplots.AxesSubplot at 0x7f3afb075358>"
            ]
          },
          "metadata": {
            "tags": []
          },
          "execution_count": 25
        },
        {
          "output_type": "display_data",
          "data": {
            "image/png": "[encoded data removed]",
            "text/plain": [
              "<Figure size 1152x648 with 1 Axes>"
            ]
          },
          "metadata": {
            "tags": []
          }
        }
      ]
    },
    {
      "metadata": {
        "id": "5mG1--yAOTJD",
        "colab_type": "text"
      },
      "cell_type": "markdown",
      "source": [
        "**추론 할 수 있는 결론 : 형제자매와 배우자가 1명이나 2명이 생존확률이 높았다.  **"
      ]
    },
    {
      "metadata": {
        "id": "WqwrOhr9OvD0",
        "colab_type": "text"
      },
      "cell_type": "markdown",
      "source": [
        "### Parch 분석"
      ]
    },
    {
      "metadata": {
        "id": "if8pR1R5OxgH",
        "colab_type": "code",
        "outputId": "e5a2992c-4cc8-4c38-ee5e-7d67b84a0c3d",
        "colab": {
          "base_uri": "https://localhost:8080/",
          "height": 589
        }
      },
      "cell_type": "code",
      "source": [
        "sns.barplot(x=\"Parch\", y=\"Survived\", data=train)"
      ],
      "execution_count": 0,
      "outputs": [
        {
          "output_type": "execute_result",
          "data": {
            "text/plain": [
              "<matplotlib.axes._subplots.AxesSubplot at 0x7f3afb0dbf28>"
            ]
          },
          "metadata": {
            "tags": []
          },
          "execution_count": 26
        },
        {
          "output_type": "display_data",
          "data": {
            "image/png": "[encoded data removed]",
            "text/plain": [
              "<Figure size 1152x648 with 1 Axes>"
            ]
          },
          "metadata": {
            "tags": []
          }
        }
      ]
    },
    {
      "metadata": {
        "id": "A_roi5y0O5xM",
        "colab_type": "text"
      },
      "cell_type": "markdown",
      "source": [
        "** 추론 할 수 있는 결론 : 딱히 없다고 할 수 있다. ** "
      ]
    },
    {
      "metadata": {
        "id": "R6u2b2MePMko",
        "colab_type": "text"
      },
      "cell_type": "markdown",
      "source": [
        "### Fare 분석"
      ]
    },
    {
      "metadata": {
        "id": "-uWqXmmqPOhp",
        "colab_type": "code",
        "outputId": "52e97658-0735-4b22-c0f5-1d54dbe06ff6",
        "colab": {
          "base_uri": "https://localhost:8080/",
          "height": 263
        }
      },
      "cell_type": "code",
      "source": [
        "fare = sns.FacetGrid(train, hue=\"Survived\",aspect=3)\n",
        "fare.map(sns.kdeplot,'Fare',shade= True)\n",
        "fare.set(xlim=(0, 200))\n",
        "fare.add_legend()"
      ],
      "execution_count": 0,
      "outputs": [
        {
          "output_type": "execute_result",
          "data": {
            "text/plain": [
              "<seaborn.axisgrid.FacetGrid at 0x7f3afb2ddda0>"
            ]
          },
          "metadata": {
            "tags": []
          },
          "execution_count": 27
        },
        {
          "output_type": "display_data",
          "data": {
            "image/png": "[encoded data removed]",
            "text/plain": [
              "<Figure size 692.75x216 with 1 Axes>"
            ]
          },
          "metadata": {
            "tags": []
          }
        }
      ]
    },
    {
      "metadata": {
        "id": "G9EcGrMuPYHw",
        "colab_type": "text"
      },
      "cell_type": "markdown",
      "source": [
        "** 추론 할 수 있는 결론 : 비교적 높은 요금을 지불한 승객은 높은 생존율을 보였다. **"
      ]
    },
    {
      "metadata": {
        "id": "nCnN0oGqQKO2",
        "colab_type": "text"
      },
      "cell_type": "markdown",
      "source": [
        "## 데이터 가공\n",
        "\n",
        "! 연습용 데이터와 테스트데이터를 합친 data를 가지고 활용 !"
      ]
    },
    {
      "metadata": {
        "id": "_ykCqR_eQNNR",
        "colab_type": "text"
      },
      "cell_type": "markdown",
      "source": [
        "### Title 피쳐 생성\n",
        "\n",
        "승객 이름을 통해 타이틀을 설정하는 단계 ':총 6가지로 분류함.\n",
        "\n",
        "\n",
        "*   Officer\n",
        "*   Royal\n",
        "*   Mrs\n",
        "*   Miss \n",
        "*   Mr \n",
        "*   Master\n",
        "\n",
        "\n"
      ]
    },
    {
      "metadata": {
        "id": "oQrZm_DLQ3-D",
        "colab_type": "code",
        "outputId": "98a0ca56-b916-492b-a0dc-94478c2fe3d9",
        "colab": {
          "base_uri": "https://localhost:8080/",
          "height": 589
        }
      },
      "cell_type": "code",
      "source": [
        "data[\"Title\"]=data['Name'].apply(lambda x:x.split(',')[1].split('.')[0].strip())\n",
        "#각 승객의 이름별로 ,자른후 자른 나머지값에서 [1] ,로 다시 자른후 Title에 대입\n",
        "\n",
        "\n",
        "data[\"Title\"]=data['Name'].apply(lambda x:x.split(',')[1].split('.')[0].strip())\n",
        "#각 승객의 이름별로 ,자른후 자른 나머지값에서 [1] ,로 다시 자른후 Title에 대입\n",
        "\n",
        "Title_Dict = {}\n",
        "# 각 Title의 값을 6개로 분류하기위해 딕셔너리 생성\n",
        "\n",
        "Title_Dict.update(dict.fromkeys(['Capt', 'Col', 'Major', 'Dr', 'Rev'], 'Officer'))\n",
        "Title_Dict.update(dict.fromkeys(['Don', 'Sir', 'the Countess', 'Dona', 'Lady'], 'Royal'))\n",
        "Title_Dict.update(dict.fromkeys(['Mme', 'Ms', 'Mrs'], 'Mrs'))\n",
        "Title_Dict.update(dict.fromkeys(['Mlle', 'Miss'], 'Miss'))\n",
        "Title_Dict.update(dict.fromkeys(['Mr'], 'Mr'))\n",
        "Title_Dict.update(dict.fromkeys(['Master','Jonkheer'], 'Master'))\n",
        "# 6개로 분류하기위해 작업\n",
        "\n",
        "data['Title'] = data['Title'].map(Title_Dict)\n",
        "# Title을 6개로 분류하기위해 맵핑\n",
        "\n",
        "\n",
        "sns.barplot(x='Title',y='Survived',data=data)"
      ],
      "execution_count": 0,
      "outputs": [
        {
          "output_type": "execute_result",
          "data": {
            "text/plain": [
              "<matplotlib.axes._subplots.AxesSubplot at 0x7f3afaee1898>"
            ]
          },
          "metadata": {
            "tags": []
          },
          "execution_count": 28
        },
        {
          "output_type": "display_data",
          "data": {
            "image/png": "[encoded data removed]",
            "text/plain": [
              "<Figure size 1152x648 with 1 Axes>"
            ]
          },
          "metadata": {
            "tags": []
          }
        }
      ]
    },
    {
      "metadata": {
        "id": "W0-8D-geUpVQ",
        "colab_type": "text"
      },
      "cell_type": "markdown",
      "source": [
        "** 추론 할 수 있는 결론 : Mrs , Miss , Royal 에서 높은 생존확률을 보이고 있다. **"
      ]
    },
    {
      "metadata": {
        "id": "qNYQnIPJUy59",
        "colab_type": "text"
      },
      "cell_type": "markdown",
      "source": [
        "### Family 피쳐 생성\n",
        "\n",
        "본인 + 형제자매(SilSp) + 부모자녀(Parch)을 더해 생성"
      ]
    },
    {
      "metadata": {
        "id": "DsGCgV-EU2U_",
        "colab_type": "code",
        "outputId": "874a0b92-5b3a-4146-8eb4-abb90042abdd",
        "colab": {
          "base_uri": "https://localhost:8080/",
          "height": 589
        }
      },
      "cell_type": "code",
      "source": [
        "data['Family']=data['SibSp']+data['Parch']+1\n",
        "# Family라는 피쳐를 만들고 형제,자매 + 부모,자녀 + 자신을 더해 값을 대입합니다.\n",
        "\n",
        "f,ax=plt.subplots(1,2)\n",
        "#파레트 생성\n",
        "\n",
        "sns.barplot(x=\"Family\", y=\"Survived\", data=data ,ax=ax[0])\n",
        "# 가족당 생존확률 그래프 생성\n",
        "sns.countplot('Family', hue='Survived',data=data,ax=ax[1])\n"
      ],
      "execution_count": 0,
      "outputs": [
        {
          "output_type": "execute_result",
          "data": {
            "text/plain": [
              "<matplotlib.axes._subplots.AxesSubplot at 0x7f3afb3324a8>"
            ]
          },
          "metadata": {
            "tags": []
          },
          "execution_count": 29
        },
        {
          "output_type": "display_data",
          "data": {
            "image/png": "[encoded data removed]",
            "text/plain": [
              "<Figure size 1152x648 with 2 Axes>"
            ]
          },
          "metadata": {
            "tags": []
          }
        }
      ]
    },
    {
      "metadata": {
        "id": "auqmbLE3VfTp",
        "colab_type": "text"
      },
      "cell_type": "markdown",
      "source": [
        "** 추론 할 수 있는 결론: 가족이 없는 승객이 대부분이며, 가족의 수가 4명인 집단이 생존 확률이 높았다. **"
      ]
    },
    {
      "metadata": {
        "id": "-IB_9XkEW9cZ",
        "colab_type": "text"
      },
      "cell_type": "markdown",
      "source": [
        "#### Family피쳐를 이용해 함수를 가공하여 3개의 집단으로 분류"
      ]
    },
    {
      "metadata": {
        "id": "Xe8BVi_OXM_R",
        "colab_type": "code",
        "outputId": "03e4c111-8b24-4e0a-afdb-1401c3ecfb31",
        "colab": {
          "base_uri": "https://localhost:8080/",
          "height": 589
        }
      },
      "cell_type": "code",
      "source": [
        "def Family(s):\n",
        "    if (s >= 2) & (s <= 4):\n",
        "        return 2\n",
        "      # 가족의 수가 2 ,3 ,4 일경우 2를 반환\n",
        "    elif ((s > 4) & (s <= 7)) | (s == 1):\n",
        "        return 1 \n",
        "      # 가족의 수가 5 ,6 ,7 이거나 1명일 경우 1을 반환\n",
        "    elif (s > 7):\n",
        "        return 0\n",
        "      # 가족의 수가 8이상 일경우 0을 반환\n",
        "      \n",
        "data['Family_label']=data['Family'].apply(Family)\n",
        "# 함수를 이용하여 Faimily_label이라는 피쳐를 생성\n",
        "\n",
        "\n",
        "sns.barplot(x=\"Family_label\", y=\"Survived\", data=data)"
      ],
      "execution_count": 0,
      "outputs": [
        {
          "output_type": "execute_result",
          "data": {
            "text/plain": [
              "<matplotlib.axes._subplots.AxesSubplot at 0x7f3afb3a1898>"
            ]
          },
          "metadata": {
            "tags": []
          },
          "execution_count": 30
        },
        {
          "output_type": "display_data",
          "data": {
            "image/png": "[encoded data removed]",
            "text/plain": [
              "<Figure size 1152x648 with 1 Axes>"
            ]
          },
          "metadata": {
            "tags": []
          }
        }
      ]
    },
    {
      "metadata": {
        "id": "yOkyiwM9YKy2",
        "colab_type": "text"
      },
      "cell_type": "markdown",
      "source": [
        "** 추론 할 수 있는 결론 : 2에 있는 집단이 생존확률이 높았다. **"
      ]
    },
    {
      "metadata": {
        "id": "j_kX64w2YtfN",
        "colab_type": "text"
      },
      "cell_type": "markdown",
      "source": [
        "### Cabin_label 생성\n",
        "\n",
        "cabin의 값이 많이 비어 있으므로 비어있는 값들을 None으로 채워 준후 앞의 글자를 활용해 Cabin_label 생성\n"
      ]
    },
    {
      "metadata": {
        "id": "RxUxFivsZXqi",
        "colab_type": "code",
        "outputId": "fde6b887-30b3-42f9-8bff-4841e2b7ea40",
        "colab": {
          "base_uri": "https://localhost:8080/",
          "height": 589
        }
      },
      "cell_type": "code",
      "source": [
        "data['Cabin'] = data['Cabin'].fillna('None')\n",
        "# 객실번호 비어있는 값을None으로 채워줌\n",
        "\n",
        "data['Cabin_label']= data['Cabin'].str.get(0)\n",
        "# 객실번호 앞글자를 활용하여 피쳐 생성\n",
        "\n",
        "sns.barplot(x=\"Cabin_label\", y=\"Survived\", data=data)"
      ],
      "execution_count": 0,
      "outputs": [
        {
          "output_type": "execute_result",
          "data": {
            "text/plain": [
              "<matplotlib.axes._subplots.AxesSubplot at 0x7f3afb361ba8>"
            ]
          },
          "metadata": {
            "tags": []
          },
          "execution_count": 31
        },
        {
          "output_type": "display_data",
          "data": {
            "image/png": "[encoded data removed]",
            "text/plain": [
              "<Figure size 1152x648 with 1 Axes>"
            ]
          },
          "metadata": {
            "tags": []
          }
        }
      ]
    },
    {
      "metadata": {
        "id": "Wa-xRPcPac0r",
        "colab_type": "text"
      },
      "cell_type": "markdown",
      "source": [
        "** 추론 할 수 있는 결론 :  특이한 점이 없는것 같다. **"
      ]
    },
    {
      "metadata": {
        "id": "EAWwROP0asq0",
        "colab_type": "text"
      },
      "cell_type": "markdown",
      "source": [
        "### Ticket_label 생성\n",
        "\n",
        "앞서 데이터에서 동일한 티켓 번호를 가진 승객이 있었기 때문에  그 승객들의 숫자를 세어 새로운 피쳐 생성"
      ]
    },
    {
      "metadata": {
        "id": "Dy9uU3lRbN9r",
        "colab_type": "code",
        "outputId": "8a2acad7-0fba-4f54-da42-eeba4392083a",
        "colab": {
          "base_uri": "https://localhost:8080/",
          "height": 589
        }
      },
      "cell_type": "code",
      "source": [
        "TicketCount = dict(data['Ticket'].value_counts())\n",
        "# 연습셋에서 동일한 티켓 번호를 가진 승객의 수를 계산\n",
        "\n",
        "data['Ticket_label'] = data['Ticket'].apply(lambda x:TicketCount[x])\n",
        "# 승객의 수를 계산한 값으로 피쳐생성\n",
        "\n",
        "sns.barplot(x='Ticket_label', y='Survived', data=data)\n"
      ],
      "execution_count": 0,
      "outputs": [
        {
          "output_type": "execute_result",
          "data": {
            "text/plain": [
              "<matplotlib.axes._subplots.AxesSubplot at 0x7f3afae5e9b0>"
            ]
          },
          "metadata": {
            "tags": []
          },
          "execution_count": 32
        },
        {
          "output_type": "display_data",
          "data": {
            "image/png": "[encoded data removed]",
            "text/plain": [
              "<Figure size 1152x648 with 1 Axes>"
            ]
          },
          "metadata": {
            "tags": []
          }
        }
      ]
    },
    {
      "metadata": {
        "id": "xgD1xJgFcj-m",
        "colab_type": "text"
      },
      "cell_type": "markdown",
      "source": [
        "#### 그룹을 3개로 분류한다."
      ]
    },
    {
      "metadata": {
        "id": "JQ3lEBWscXTQ",
        "colab_type": "code",
        "outputId": "2546a626-559b-4334-8507-331d952c3d25",
        "colab": {
          "base_uri": "https://localhost:8080/",
          "height": 589
        }
      },
      "cell_type": "code",
      "source": [
        "def Ticket_label(s):\n",
        "    if (s >= 2) & (s <= 4):\n",
        "        return 2\n",
        "      # 동일한 티켓을 가지고있는 승객의 수가 2,3,4명이면 2를 반환\n",
        "    elif ((s > 4) & (s <= 8)) | (s == 1):\n",
        "        return 1\n",
        "      # 동일한 티켓을 가지고있는 승객의 수가 1,5,6,7,8명이면 2를 반환\n",
        "    elif (s > 8):\n",
        "        return 0\n",
        "      # 동일한 티켓을 가지고있는 승객의 수가 9명 이상이면 2를 반환\n",
        "\n",
        "data['Ticket_label'] = data['Ticket_label'].apply(Ticket_label)\n",
        "#함수를 이용하여 업데이트\n",
        "\n",
        "sns.barplot(x='Ticket_label', y='Survived', data=data)"
      ],
      "execution_count": 0,
      "outputs": [
        {
          "output_type": "execute_result",
          "data": {
            "text/plain": [
              "<matplotlib.axes._subplots.AxesSubplot at 0x7f3afadfbd30>"
            ]
          },
          "metadata": {
            "tags": []
          },
          "execution_count": 33
        },
        {
          "output_type": "display_data",
          "data": {
            "image/png": "[encoded data removed]",
            "text/plain": [
              "<Figure size 1152x648 with 1 Axes>"
            ]
          },
          "metadata": {
            "tags": []
          }
        }
      ]
    },
    {
      "metadata": {
        "id": "X67X0Ur8dYZ4",
        "colab_type": "text"
      },
      "cell_type": "markdown",
      "source": [
        "** 추론 할 수 있는 결론 : 동일한 티켓을 가지고 있는 승객의  수가 1,5,6,7,8 명이 많다. **"
      ]
    },
    {
      "metadata": {
        "id": "pL-ukMMGdvLS",
        "colab_type": "text"
      },
      "cell_type": "markdown",
      "source": [
        "## 비어 있는 값 채우기"
      ]
    },
    {
      "metadata": {
        "id": "HsfANZKkd1Co",
        "colab_type": "text"
      },
      "cell_type": "markdown",
      "source": [
        "### Age 값 채우기\n",
        "\n",
        "Pclass , Sex , Title 값으로 랜덤포레스트위한 생성"
      ]
    },
    {
      "metadata": {
        "id": "MQ0vxMtvdy_n",
        "colab_type": "code",
        "colab": {}
      },
      "cell_type": "code",
      "source": [
        "age = data[['Age','Pclass','Sex','Title']]\n",
        "# 피쳐 추출\n",
        "\n",
        "age = pd.get_dummies(age)\n",
        "# 더미데이터 생성\n",
        "\n",
        "known_age = age[age.Age.notnull()].as_matrix()\n",
        "# 나이값이 존재하는 사람들을 행렬 형태로 변환\n",
        "\n",
        "null_age = age[age.Age.isnull()].as_matrix()\n",
        "# 나이값이 존재하지 않은 사람들을 행렬 형태로 변환\n",
        "\n",
        "x = known_age[:, 1:]\n",
        "\n",
        "y = known_age[:, 0]\n",
        "\n",
        "rf = RandomForestRegressor(n_jobs=-1)\n",
        "\n",
        "rf.fit(x, y)\n",
        "\n",
        "predictedAge = rf.predict(null_age[:, 1:])\n",
        "\n",
        "data.loc[(data.Age.isnull()),'Age'] = predictedAge"
      ],
      "execution_count": 0,
      "outputs": []
    },
    {
      "metadata": {
        "id": "MJbIFX2qhK9-",
        "colab_type": "text"
      },
      "cell_type": "markdown",
      "source": [
        "### Embarked 값 채우기"
      ]
    },
    {
      "metadata": {
        "id": "Qhn5EPsnhOcI",
        "colab_type": "code",
        "outputId": "33fcea48-dd99-40a2-d42d-b992d35a3f6a",
        "colab": {
          "base_uri": "https://localhost:8080/",
          "height": 250
        }
      },
      "cell_type": "code",
      "source": [
        "data[data['Embarked'].isnull()]"
      ],
      "execution_count": 0,
      "outputs": [
        {
          "output_type": "execute_result",
          "data": {
            "text/html": [
              "<div>\n",
              "<style scoped>\n",
              "    .dataframe tbody tr th:only-of-type {\n",
              "        vertical-align: middle;\n",
              "    }\n",
              "\n",
              "    .dataframe tbody tr th {\n",
              "        vertical-align: top;\n",
              "    }\n",
              "\n",
              "    .dataframe thead th {\n",
              "        text-align: right;\n",
              "    }\n",
              "</style>\n",
              "<table border=\"1\" class=\"dataframe\">\n",
              "  <thead>\n",
              "    <tr style=\"text-align: right;\">\n",
              "      <th></th>\n",
              "      <th>Age</th>\n",
              "      <th>Cabin</th>\n",
              "      <th>Embarked</th>\n",
              "      <th>Fare</th>\n",
              "      <th>Name</th>\n",
              "      <th>Parch</th>\n",
              "      <th>PassengerId</th>\n",
              "      <th>Pclass</th>\n",
              "      <th>Sex</th>\n",
              "      <th>SibSp</th>\n",
              "      <th>Survived</th>\n",
              "      <th>Ticket</th>\n",
              "      <th>Title</th>\n",
              "      <th>Family</th>\n",
              "      <th>Family_label</th>\n",
              "      <th>Cabin_label</th>\n",
              "      <th>Ticket_label</th>\n",
              "    </tr>\n",
              "  </thead>\n",
              "  <tbody>\n",
              "    <tr>\n",
              "      <th>61</th>\n",
              "      <td>38.0</td>\n",
              "      <td>B28</td>\n",
              "      <td>NaN</td>\n",
              "      <td>80.0</td>\n",
              "      <td>Icard, Miss. Amelie</td>\n",
              "      <td>0</td>\n",
              "      <td>62</td>\n",
              "      <td>1</td>\n",
              "      <td>female</td>\n",
              "      <td>0</td>\n",
              "      <td>1.0</td>\n",
              "      <td>113572</td>\n",
              "      <td>Miss</td>\n",
              "      <td>1</td>\n",
              "      <td>1</td>\n",
              "      <td>B</td>\n",
              "      <td>2</td>\n",
              "    </tr>\n",
              "    <tr>\n",
              "      <th>829</th>\n",
              "      <td>62.0</td>\n",
              "      <td>B28</td>\n",
              "      <td>NaN</td>\n",
              "      <td>80.0</td>\n",
              "      <td>Stone, Mrs. George Nelson (Martha Evelyn)</td>\n",
              "      <td>0</td>\n",
              "      <td>830</td>\n",
              "      <td>1</td>\n",
              "      <td>female</td>\n",
              "      <td>0</td>\n",
              "      <td>1.0</td>\n",
              "      <td>113572</td>\n",
              "      <td>Mrs</td>\n",
              "      <td>1</td>\n",
              "      <td>1</td>\n",
              "      <td>B</td>\n",
              "      <td>2</td>\n",
              "    </tr>\n",
              "  </tbody>\n",
              "</table>\n",
              "</div>"
            ],
            "text/plain": [
              "      Age Cabin Embarked  Fare                                       Name  \\\n",
              "61   38.0   B28      NaN  80.0                        Icard, Miss. Amelie   \n",
              "829  62.0   B28      NaN  80.0  Stone, Mrs. George Nelson (Martha Evelyn)   \n",
              "\n",
              "     Parch  PassengerId  Pclass     Sex  SibSp  Survived  Ticket Title  \\\n",
              "61       0           62       1  female      0       1.0  113572  Miss   \n",
              "829      0          830       1  female      0       1.0  113572   Mrs   \n",
              "\n",
              "     Family  Family_label Cabin_label  Ticket_label  \n",
              "61        1             1           B             2  \n",
              "829       1             1           B             2  "
            ]
          },
          "metadata": {
            "tags": []
          },
          "execution_count": 35
        }
      ]
    },
    {
      "metadata": {
        "id": "b8HKG12chT_T",
        "colab_type": "text"
      },
      "cell_type": "markdown",
      "source": [
        "**추론 할 수 있는 결론 : Embarked를 가지고 있지 않는 사람들의 공통점은 Pclass=1 이고 Fare=80 이다. **"
      ]
    },
    {
      "metadata": {
        "id": "dnxdBP8_h_tu",
        "colab_type": "text"
      },
      "cell_type": "markdown",
      "source": [
        "#### 위에 만들어진 조건을 가지고 비어있는 값 채우기"
      ]
    },
    {
      "metadata": {
        "id": "JSLRRYuSiJwv",
        "colab_type": "code",
        "outputId": "4aa85ac3-2935-4771-99d4-7cfdbe322a0e",
        "colab": {
          "base_uri": "https://localhost:8080/",
          "height": 91
        }
      },
      "cell_type": "code",
      "source": [
        "C = data[(data['Embarked']=='C') & (data['Pclass'] == 1)]['Fare'].median()\n",
        "print(C)\n",
        "# 탑승한곳이 C이면서 1등석인 Fare의 중간값\n",
        "\n",
        "S = data[(data['Embarked']=='S') & (data['Pclass'] == 1)]['Fare'].median()\n",
        "print(S)\n",
        "# 탑승한곳이 S이면서 1등석인 Fare의 중간값\n",
        "\n",
        "Q = data[(data['Embarked']=='Q') & (data['Pclass'] == 1)]['Fare'].median()\n",
        "print(Q)\n",
        "# 탑승한곳이 Q이면서 1등석인 Fare의 중간값\n",
        "\n",
        "data['Embarked'] = data['Embarked'].fillna('C')\n"
      ],
      "execution_count": 0,
      "outputs": [
        {
          "output_type": "stream",
          "text": [
            "76.7292\n",
            "52.0\n",
            "90.0\n"
          ],
          "name": "stdout"
        }
      ]
    },
    {
      "metadata": {
        "id": "h1VxCdZniv5n",
        "colab_type": "text"
      },
      "cell_type": "markdown",
      "source": [
        "### Fare 값 채우기"
      ]
    },
    {
      "metadata": {
        "id": "0s4CX7WNixp-",
        "colab_type": "code",
        "outputId": "0ad8ef8a-84e4-428d-cec7-cde6715f96ca",
        "colab": {
          "base_uri": "https://localhost:8080/",
          "height": 134
        }
      },
      "cell_type": "code",
      "source": [
        "data[data['Fare'].isnull()]"
      ],
      "execution_count": 0,
      "outputs": [
        {
          "output_type": "execute_result",
          "data": {
            "text/html": [
              "<div>\n",
              "<style scoped>\n",
              "    .dataframe tbody tr th:only-of-type {\n",
              "        vertical-align: middle;\n",
              "    }\n",
              "\n",
              "    .dataframe tbody tr th {\n",
              "        vertical-align: top;\n",
              "    }\n",
              "\n",
              "    .dataframe thead th {\n",
              "        text-align: right;\n",
              "    }\n",
              "</style>\n",
              "<table border=\"1\" class=\"dataframe\">\n",
              "  <thead>\n",
              "    <tr style=\"text-align: right;\">\n",
              "      <th></th>\n",
              "      <th>Age</th>\n",
              "      <th>Cabin</th>\n",
              "      <th>Embarked</th>\n",
              "      <th>Fare</th>\n",
              "      <th>Name</th>\n",
              "      <th>Parch</th>\n",
              "      <th>PassengerId</th>\n",
              "      <th>Pclass</th>\n",
              "      <th>Sex</th>\n",
              "      <th>SibSp</th>\n",
              "      <th>Survived</th>\n",
              "      <th>Ticket</th>\n",
              "      <th>Title</th>\n",
              "      <th>Family</th>\n",
              "      <th>Family_label</th>\n",
              "      <th>Cabin_label</th>\n",
              "      <th>Ticket_label</th>\n",
              "    </tr>\n",
              "  </thead>\n",
              "  <tbody>\n",
              "    <tr>\n",
              "      <th>1043</th>\n",
              "      <td>60.5</td>\n",
              "      <td>None</td>\n",
              "      <td>S</td>\n",
              "      <td>NaN</td>\n",
              "      <td>Storey, Mr. Thomas</td>\n",
              "      <td>0</td>\n",
              "      <td>1044</td>\n",
              "      <td>3</td>\n",
              "      <td>male</td>\n",
              "      <td>0</td>\n",
              "      <td>NaN</td>\n",
              "      <td>3701</td>\n",
              "      <td>Mr</td>\n",
              "      <td>1</td>\n",
              "      <td>1</td>\n",
              "      <td>N</td>\n",
              "      <td>1</td>\n",
              "    </tr>\n",
              "  </tbody>\n",
              "</table>\n",
              "</div>"
            ],
            "text/plain": [
              "       Age Cabin Embarked  Fare                Name  Parch  PassengerId  \\\n",
              "1043  60.5  None        S   NaN  Storey, Mr. Thomas      0         1044   \n",
              "\n",
              "      Pclass   Sex  SibSp  Survived Ticket Title  Family  Family_label  \\\n",
              "1043       3  male      0       NaN   3701    Mr       1             1   \n",
              "\n",
              "     Cabin_label  Ticket_label  \n",
              "1043           N             1  "
            ]
          },
          "metadata": {
            "tags": []
          },
          "execution_count": 37
        }
      ]
    },
    {
      "metadata": {
        "id": "SHT1ZX9Wl85r",
        "colab_type": "code",
        "colab": {}
      },
      "cell_type": "code",
      "source": [
        "fare=data[(data['Embarked'] == \"S\") & (data['Pclass'] == 3)].Fare.median()\n",
        "# 탑승한 곳이 S이면서 3등석인 Fare의 중간값 추출\n",
        "\n",
        "data['Fare']=data['Fare'].fillna(fare)\n",
        "# 값 채우기"
      ],
      "execution_count": 0,
      "outputs": []
    },
    {
      "metadata": {
        "id": "0Xs9HNSWmnXH",
        "colab_type": "text"
      },
      "cell_type": "markdown",
      "source": [
        "### Last_name 생성"
      ]
    },
    {
      "metadata": {
        "id": "58vmp_47mxn3",
        "colab_type": "code",
        "colab": {}
      },
      "cell_type": "code",
      "source": [
        "data['Last_name']=data['Name'].apply(lambda x:x.split(',')[0].strip())\n",
        "# 승객 이름의 성을 추출하여 새로운 피쳐 생성\n",
        "\n",
        "Lastname_Count = dict(data['Last_name'].value_counts())\n",
        "# 같은 성을 가진 사람을 추출하려는 변수 생성\n",
        "\n",
        "data['Family_Group'] = data['Last_name'].apply(lambda x:Lastname_Count[x])\n",
        "# Family_Group을 생성함.\n",
        "\n",
        "Female_Child_Group=data.loc[(data['Family_Group']>=2) & ((data['Age']<=12) | (data['Sex']=='female'))]\n",
        "# 두명 이상의 가족중에서 여자 또는 12살 이하의 아동을 검색\n",
        "\n",
        "Male_Adult_Group=data.loc[(data['Family_Group']>=2) & (data['Age']>12) & (data['Sex']=='male')]\n",
        "# 두명 이상의 가족중에서 남자 이면서 13살 이상인 사람을 검색\n"
      ],
      "execution_count": 0,
      "outputs": []
    },
    {
      "metadata": {
        "id": "ArppTS8voWbD",
        "colab_type": "code",
        "outputId": "86fcf8f1-86aa-4aa1-cca9-5b22e1168d4d",
        "colab": {
          "base_uri": "https://localhost:8080/",
          "height": 224
        }
      },
      "cell_type": "code",
      "source": [
        "Female_Child=pd.DataFrame(Female_Child_Group.groupby('Last_name')['Survived'].mean().value_counts())\n",
        "Female_Child.columns=['Lastname_Count']\n",
        "Female_Child"
      ],
      "execution_count": 0,
      "outputs": [
        {
          "output_type": "execute_result",
          "data": {
            "text/html": [
              "<div>\n",
              "<style scoped>\n",
              "    .dataframe tbody tr th:only-of-type {\n",
              "        vertical-align: middle;\n",
              "    }\n",
              "\n",
              "    .dataframe tbody tr th {\n",
              "        vertical-align: top;\n",
              "    }\n",
              "\n",
              "    .dataframe thead th {\n",
              "        text-align: right;\n",
              "    }\n",
              "</style>\n",
              "<table border=\"1\" class=\"dataframe\">\n",
              "  <thead>\n",
              "    <tr style=\"text-align: right;\">\n",
              "      <th></th>\n",
              "      <th>Lastname_Count</th>\n",
              "    </tr>\n",
              "  </thead>\n",
              "  <tbody>\n",
              "    <tr>\n",
              "      <th>1.000000</th>\n",
              "      <td>115</td>\n",
              "    </tr>\n",
              "    <tr>\n",
              "      <th>0.000000</th>\n",
              "      <td>31</td>\n",
              "    </tr>\n",
              "    <tr>\n",
              "      <th>0.750000</th>\n",
              "      <td>2</td>\n",
              "    </tr>\n",
              "    <tr>\n",
              "      <th>0.333333</th>\n",
              "      <td>1</td>\n",
              "    </tr>\n",
              "    <tr>\n",
              "      <th>0.142857</th>\n",
              "      <td>1</td>\n",
              "    </tr>\n",
              "  </tbody>\n",
              "</table>\n",
              "</div>"
            ],
            "text/plain": [
              "          Lastname_Count\n",
              "1.000000             115\n",
              "0.000000              31\n",
              "0.750000               2\n",
              "0.333333               1\n",
              "0.142857               1"
            ]
          },
          "metadata": {
            "tags": []
          },
          "execution_count": 40
        }
      ]
    },
    {
      "metadata": {
        "id": "5ptzoWC-ophn",
        "colab_type": "text"
      },
      "cell_type": "markdown",
      "source": [
        "** 추론 할 수 있는 결론 : 여성과 아이 그룹에서 평균 생존율은 대부분 1 또는 0이다. 즉, 모두 생존했거나 모두 죽었다는것을 의미함. **"
      ]
    },
    {
      "metadata": {
        "id": "rFLueo-To6Gy",
        "colab_type": "code",
        "outputId": "6dc19aab-8cd7-4aff-f01f-26252a3f3819",
        "colab": {
          "base_uri": "https://localhost:8080/",
          "height": 224
        }
      },
      "cell_type": "code",
      "source": [
        "Male_Adult=pd.DataFrame(Male_Adult_Group.groupby('Last_name')['Survived'].mean().value_counts())\n",
        "Male_Adult.columns=['Lastname_Count']\n",
        "Male_Adult"
      ],
      "execution_count": 0,
      "outputs": [
        {
          "output_type": "execute_result",
          "data": {
            "text/html": [
              "<div>\n",
              "<style scoped>\n",
              "    .dataframe tbody tr th:only-of-type {\n",
              "        vertical-align: middle;\n",
              "    }\n",
              "\n",
              "    .dataframe tbody tr th {\n",
              "        vertical-align: top;\n",
              "    }\n",
              "\n",
              "    .dataframe thead th {\n",
              "        text-align: right;\n",
              "    }\n",
              "</style>\n",
              "<table border=\"1\" class=\"dataframe\">\n",
              "  <thead>\n",
              "    <tr style=\"text-align: right;\">\n",
              "      <th></th>\n",
              "      <th>Lastname_Count</th>\n",
              "    </tr>\n",
              "  </thead>\n",
              "  <tbody>\n",
              "    <tr>\n",
              "      <th>0.000000</th>\n",
              "      <td>122</td>\n",
              "    </tr>\n",
              "    <tr>\n",
              "      <th>1.000000</th>\n",
              "      <td>20</td>\n",
              "    </tr>\n",
              "    <tr>\n",
              "      <th>0.500000</th>\n",
              "      <td>6</td>\n",
              "    </tr>\n",
              "    <tr>\n",
              "      <th>0.333333</th>\n",
              "      <td>2</td>\n",
              "    </tr>\n",
              "    <tr>\n",
              "      <th>0.250000</th>\n",
              "      <td>1</td>\n",
              "    </tr>\n",
              "  </tbody>\n",
              "</table>\n",
              "</div>"
            ],
            "text/plain": [
              "          Lastname_Count\n",
              "0.000000             122\n",
              "1.000000              20\n",
              "0.500000               6\n",
              "0.333333               2\n",
              "0.250000               1"
            ]
          },
          "metadata": {
            "tags": []
          },
          "execution_count": 41
        }
      ]
    },
    {
      "metadata": {
        "id": "bhvZd40ypKAr",
        "colab_type": "text"
      },
      "cell_type": "markdown",
      "source": [
        "** 추론 할 수 있는 결론 : 남성 그룹의 평균 생존율은 0또는 1이며 많이 죽었다는것을 알 수 있다. **"
      ]
    },
    {
      "metadata": {
        "id": "mYGUdxl_pr33",
        "colab_type": "text"
      },
      "cell_type": "markdown",
      "source": [
        "### 지금 까지의 결론들을 통해 가설을 세울수 있는 그룹을 생성"
      ]
    },
    {
      "metadata": {
        "id": "u63d3mJ4qc9N",
        "colab_type": "code",
        "outputId": "a5298667-6775-4ac6-e51c-a1d5d10ca303",
        "colab": {
          "base_uri": "https://localhost:8080/",
          "height": 73
        }
      },
      "cell_type": "code",
      "source": [
        "Female_Child_Group=Female_Child_Group.groupby('Last_name')['Survived'].mean()\n",
        "#여성과 어린이 집단의 평균값 추출\n",
        "\n",
        "Dead_list=set(Female_Child_Group[Female_Child_Group.apply(lambda x:x==0)].index)\n",
        "# 죽은 리스트에 여성과 어린이 집단의 평균값중 0인 인덱스 값 반환\n",
        "print(Dead_list)\n",
        "\n",
        "Male_Adult_List=Male_Adult_Group.groupby('Last_name')['Survived'].mean()\n",
        "#남성과 성인 집단의 평균값 추출\n",
        "Survived_list=set(Male_Adult_List[Male_Adult_List.apply(lambda x:x==1)].index)\n",
        "# 생존 리스트에서 남성과 성인 집단의 평균값중 1인 인덱스 값 반환\n",
        "print(Survived_list)"
      ],
      "execution_count": 0,
      "outputs": [
        {
          "output_type": "stream",
          "text": [
            "{'Boulos', 'Goodwin', 'Palsson', 'Canavan', 'Attalah', 'Panula', 'Oreskovic', 'Bourke', 'Johnston', 'Sage', 'Cacic', 'Caram', 'Rosblom', 'Arnold-Franchi', 'Robins', 'Ilmakangas', 'Strom', 'Barbara', 'Olsson', 'Skoog', 'Vander Planke', 'Zabour', 'Rice', 'Lahtinen', 'Lobb', 'Ford', 'Jussila', 'Van Impe', 'Turpin', 'Lefebre', 'Danbom'}\n",
            "{'Cardeza', 'Daly', 'Greenfield', 'Frauenthal', 'Harder', 'Duff Gordon', 'Dick', 'Beane', 'Bishop', 'Goldenberg', 'Jussila', 'Frolicher-Stehli', 'Jonsson', 'McCoy', 'Chambers', 'Taylor', 'Beckwith', 'Nakid', 'Bradley', 'Kimball'}\n"
          ],
          "name": "stdout"
        }
      ]
    },
    {
      "metadata": {
        "id": "w8tWiLmZq4G0",
        "colab_type": "code",
        "colab": {}
      },
      "cell_type": "code",
      "source": [
        "train1=data.loc[data['Survived'].notnull()]\n",
        "# 데이터셋 안에 Survived값이 빈값이 아닌 변수 생성\n",
        "\n",
        "test1=data.loc[data['Survived'].isnull()]\n",
        "# 데이터셋 안에 Survived값이 빈값인 변수 생성\n",
        "\n",
        "test1.loc[(test1['Last_name'].apply(lambda x:x in Dead_list)),'Sex'] = 'male'\n",
        "#  \n",
        "\n",
        "test1.loc[(test1['Last_name'].apply(lambda x:x in Dead_list)),'Age'] = 60\n",
        "\n",
        "\n",
        "test1.loc[(test1['Last_name'].apply(lambda x:x in Dead_list)),'Title'] = 'Mr'\n",
        "\n",
        "\n",
        "test1.loc[(test1['Last_name'].apply(lambda x:x in Survived_list)),'Sex'] = 'female'\n",
        "\n",
        "\n",
        "test1.loc[(test1['Last_name'].apply(lambda x:x in Survived_list)),'Age'] = 5\n",
        "\n",
        "\n",
        "test1.loc[(test1['Last_name'].apply(lambda x:x in Survived_list)),'Title'] = 'Miss'\n"
      ],
      "execution_count": 0,
      "outputs": []
    },
    {
      "metadata": {
        "id": "NS71003OvfhJ",
        "colab_type": "text"
      },
      "cell_type": "markdown",
      "source": [
        "### 데이터 선택 및 숫자값으로 전송"
      ]
    },
    {
      "metadata": {
        "id": "zpCEj94kvnfK",
        "colab_type": "code",
        "colab": {}
      },
      "cell_type": "code",
      "source": [
        "data=pd.concat([train1,test1])\n",
        "\n",
        "data=data[['Survived','Pclass','Sex','Age','Fare','Embarked','Title','Family_label','Cabin_label','Ticket_label']]\n",
        "\n",
        "data=pd.get_dummies(data)\n",
        "trainset=data[data['Survived'].notnull()]\n",
        "testset=data[data['Survived'].isnull()].drop('Survived',axis=1)\n",
        "X = trainset.as_matrix()[:,1:]\n",
        "Y = trainset.as_matrix()[:,0]"
      ],
      "execution_count": 0,
      "outputs": []
    },
    {
      "metadata": {
        "id": "V5CDfUNDxlGx",
        "colab_type": "text"
      },
      "cell_type": "markdown",
      "source": [
        "## 모델 학습 및 예측\n",
        " 그리드 검색을 사용하여 랜덤 포레스트의 최상의 매개변수를 찾음."
      ]
    },
    {
      "metadata": {
        "id": "J1TBn-I_xxzW",
        "colab_type": "code",
        "outputId": "c6ec601a-0583-4d99-fd8b-dd82d367fdb8",
        "colab": {
          "base_uri": "https://localhost:8080/",
          "height": 35
        }
      },
      "cell_type": "code",
      "source": [
        "pipe=Pipeline([('select',SelectKBest(k=20)), \n",
        "               ('classify', RandomForestClassifier(random_state = 10, max_features = 'sqrt'))])\n",
        "\n",
        "param_test = {'classify__n_estimators':list(range(20,50,2)), \n",
        "              'classify__max_depth':list(range(3,60,3))}\n",
        "gsearch = GridSearchCV(estimator = pipe, param_grid = param_test, scoring='accuracy', cv=10)\n",
        "gsearch.fit(X,Y)\n",
        "print(gsearch.best_params_, gsearch.best_score_)"
      ],
      "execution_count": 0,
      "outputs": [
        {
          "output_type": "stream",
          "text": [
            "{'classify__max_depth': 6, 'classify__n_estimators': 22} 0.8451178451178452\n"
          ],
          "name": "stdout"
        }
      ]
    },
    {
      "metadata": {
        "id": "SKYuYSyLyfMY",
        "colab_type": "text"
      },
      "cell_type": "markdown",
      "source": [
        ""
      ]
    },
    {
      "metadata": {
        "id": "VQthKmuIyTPK",
        "colab_type": "code",
        "outputId": "29698673-e346-448b-f502-aee86c38d553",
        "colab": {
          "base_uri": "https://localhost:8080/",
          "height": 107
        }
      },
      "cell_type": "code",
      "source": [
        "select = SelectKBest(k = 20)\n",
        "clf = RandomForestClassifier(random_state = 10, warm_start = True, \n",
        "                                  n_estimators = 22,\n",
        "                                  max_depth = 6, \n",
        "                                  max_features = 'sqrt')\n",
        "pipeline = make_pipeline(select, clf)\n",
        "pipeline.fit(X, Y)"
      ],
      "execution_count": 55,
      "outputs": [
        {
          "output_type": "execute_result",
          "data": {
            "text/plain": [
              "Pipeline(memory=None,\n",
              "     steps=[('selectkbest', SelectKBest(k=20, score_func=<function f_classif at 0x7f3afe989488>)), ('randomforestclassifier', RandomForestClassifier(bootstrap=True, class_weight=None, criterion='gini',\n",
              "            max_depth=6, max_features='sqrt', max_leaf_nodes=None,\n",
              "            min_impurity_decrease=0....imators=22, n_jobs=None,\n",
              "            oob_score=False, random_state=10, verbose=0, warm_start=True))])"
            ]
          },
          "metadata": {
            "tags": []
          },
          "execution_count": 55
        }
      ]
    },
    {
      "metadata": {
        "id": "LyfNYXqdygRu",
        "colab_type": "text"
      },
      "cell_type": "markdown",
      "source": [
        ""
      ]
    },
    {
      "metadata": {
        "id": "h34Xt_iOzG0p",
        "colab_type": "code",
        "outputId": "4abe6278-5a7f-43a3-9791-b337206ecd56",
        "colab": {
          "base_uri": "https://localhost:8080/",
          "height": 35
        }
      },
      "cell_type": "code",
      "source": [
        "score = model_selection.cross_val_score(pipeline, X, Y, cv= 10)\n",
        "print(\"Score : Mean - %.7g | Std - %.7g \" % (np.mean(score), np.std(score)))"
      ],
      "execution_count": 56,
      "outputs": [
        {
          "output_type": "stream",
          "text": [
            "Score : Mean - 0.8451274 | Std - 0.02736289 \n"
          ],
          "name": "stdout"
        }
      ]
    },
    {
      "metadata": {
        "id": "umwMucvezMmq",
        "colab_type": "text"
      },
      "cell_type": "markdown",
      "source": [
        ""
      ]
    },
    {
      "metadata": {
        "id": "ETeiDI4uyh6h",
        "colab_type": "text"
      },
      "cell_type": "markdown",
      "source": [
        "## 만들어진 파일 제출"
      ]
    },
    {
      "metadata": {
        "id": "Qid7RVQVyotO",
        "colab_type": "code",
        "colab": {}
      },
      "cell_type": "code",
      "source": [
        "PassengerId = test['PassengerId']\n",
        "# 제출에 사용된 테스트셋에 승객id입력\n",
        "predictions = pipeline.predict(testset)\n",
        "submission = pd.DataFrame({\"PassengerId\": PassengerId, \"Survived\": predictions.astype(np.int32)})\n",
        "submission.to_csv(\"submission.csv\", index=False)"
      ],
      "execution_count": 0,
      "outputs": []
    }
  ]
}